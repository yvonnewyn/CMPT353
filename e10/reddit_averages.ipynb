{
 "cells": [
  {
   "cell_type": "code",
   "execution_count": 1,
   "id": "baf70991",
   "metadata": {},
   "outputs": [
    {
     "name": "stderr",
     "output_type": "stream",
     "text": [
      "Setting default log level to \"WARN\".\n",
      "To adjust logging level use sc.setLogLevel(newLevel). For SparkR, use setLogLevel(newLevel).\n"
     ]
    },
    {
     "name": "stdout",
     "output_type": "stream",
     "text": [
      "22/11/15 11:26:30 WARN NativeCodeLoader: Unable to load native-hadoop library for your platform... using builtin-java classes where applicable\n"
     ]
    }
   ],
   "source": [
    "import sys\n",
    "from pyspark.sql import SparkSession, functions, types\n",
    "\n",
    "spark = SparkSession.builder.appName('reddit averages').getOrCreate()\n",
    "spark.sparkContext.setLogLevel('WARN')\n",
    "\n",
    "assert sys.version_info >= (3, 8) # make sure we have Python 3.8+\n",
    "assert spark.version >= '3.2' # make sure we have Spark 3.2+\n",
    "\n",
    "\n",
    "comments_schema = types.StructType([\n",
    "    types.StructField('archived', types.BooleanType()),\n",
    "    types.StructField('author', types.StringType()),\n",
    "    types.StructField('author_flair_css_class', types.StringType()),\n",
    "    types.StructField('author_flair_text', types.StringType()),\n",
    "    types.StructField('body', types.StringType()),\n",
    "    types.StructField('controversiality', types.LongType()),\n",
    "    types.StructField('created_utc', types.StringType()),\n",
    "    types.StructField('distinguished', types.StringType()),\n",
    "    types.StructField('downs', types.LongType()),\n",
    "    types.StructField('edited', types.StringType()),\n",
    "    types.StructField('gilded', types.LongType()),\n",
    "    types.StructField('id', types.StringType()),\n",
    "    types.StructField('link_id', types.StringType()),\n",
    "    types.StructField('name', types.StringType()),\n",
    "    types.StructField('parent_id', types.StringType()),\n",
    "    types.StructField('retrieved_on', types.LongType()),\n",
    "    types.StructField('score', types.LongType()),\n",
    "    types.StructField('score_hidden', types.BooleanType()),\n",
    "    types.StructField('subreddit', types.StringType()),\n",
    "    types.StructField('subreddit_id', types.StringType()),\n",
    "    types.StructField('ups', types.LongType()),\n",
    "    #types.StructField('year', types.IntegerType()),\n",
    "    #types.StructField('month', types.IntegerType()),\n",
    "])\n",
    "\n",
    "\n",
    "def main(in_directory, out_directory):\n",
    "    comments = spark.read.json(in_directory, schema=comments_schema)\n",
    "\n",
    "    # TODO: calculate averages, sort by subreddit. Sort by average score and output that too.\n",
    "\n",
    "    \n",
    "\n",
    "    #averages_by_subreddit.write.csv(out_directory + '-subreddit', mode='overwrite')\n",
    "    #averages_by_score.write.csv(out_directory + '-score', mode='overwrite')\n"
   ]
  },
  {
   "cell_type": "code",
   "execution_count": 19,
   "id": "248727eb",
   "metadata": {},
   "outputs": [
    {
     "name": "stdout",
     "output_type": "stream",
     "text": [
      "+---------+------------------+\n",
      "|subreddit|        avg(score)|\n",
      "+---------+------------------+\n",
      "|     xkcd| 5.272939881689366|\n",
      "|    scala| 1.928939237899073|\n",
      "|optometry|1.4701986754966887|\n",
      "|  Cameras|1.2222222222222223|\n",
      "|Genealogy| 1.871313672922252|\n",
      "+---------+------------------+\n",
      "\n"
     ]
    }
   ],
   "source": [
    "comments = spark.read.json('reddit-1', schema=comments_schema)\n",
    "\n",
    "averages = comments.groupBy(comments['subreddit']).avg('score')\n",
    "# averages = averages.agg(functions.avg(comments['score']))\n",
    "averages.show()"
   ]
  },
  {
   "cell_type": "code",
   "execution_count": 17,
   "id": "caef3468",
   "metadata": {},
   "outputs": [
    {
     "name": "stdout",
     "output_type": "stream",
     "text": [
      "+---------+------------------+\n",
      "|subreddit|        avg(score)|\n",
      "+---------+------------------+\n",
      "|  Cameras|1.2222222222222223|\n",
      "|Genealogy| 1.871313672922252|\n",
      "|optometry|1.4701986754966887|\n",
      "|    scala| 1.928939237899073|\n",
      "|     xkcd| 5.272939881689366|\n",
      "+---------+------------------+\n",
      "\n"
     ]
    }
   ],
   "source": [
    "averages_by_subreddit = averages.sort([\"subreddit\"], ascending=[True])\n",
    "averages_by_subreddit.show()"
   ]
  },
  {
   "cell_type": "code",
   "execution_count": 15,
   "id": "5d1889f6",
   "metadata": {},
   "outputs": [
    {
     "name": "stdout",
     "output_type": "stream",
     "text": [
      "+---------+------------------+\n",
      "|subreddit|        avg(score)|\n",
      "+---------+------------------+\n",
      "|     xkcd| 5.272939881689366|\n",
      "|    scala| 1.928939237899073|\n",
      "|Genealogy| 1.871313672922252|\n",
      "|optometry|1.4701986754966887|\n",
      "|  Cameras|1.2222222222222223|\n",
      "+---------+------------------+\n",
      "\n"
     ]
    }
   ],
   "source": [
    "averages_by_score = averages.sort([\"avg(score)\"], ascending=[False])\n",
    "averages_by_score.show()"
   ]
  },
  {
   "cell_type": "code",
   "execution_count": null,
   "id": "e49193c1",
   "metadata": {},
   "outputs": [],
   "source": []
  }
 ],
 "metadata": {
  "kernelspec": {
   "display_name": "Python 3 (ipykernel)",
   "language": "python",
   "name": "python3"
  },
  "language_info": {
   "codemirror_mode": {
    "name": "ipython",
    "version": 3
   },
   "file_extension": ".py",
   "mimetype": "text/x-python",
   "name": "python",
   "nbconvert_exporter": "python",
   "pygments_lexer": "ipython3",
   "version": "3.9.12"
  }
 },
 "nbformat": 4,
 "nbformat_minor": 5
}
