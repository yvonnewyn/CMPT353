{
 "cells": [
  {
   "cell_type": "code",
   "execution_count": 2,
   "id": "dbb531e4",
   "metadata": {},
   "outputs": [
    {
     "name": "stderr",
     "output_type": "stream",
     "text": [
      "Setting default log level to \"WARN\".\n",
      "To adjust logging level use sc.setLogLevel(newLevel). For SparkR, use setLogLevel(newLevel).\n"
     ]
    },
    {
     "name": "stdout",
     "output_type": "stream",
     "text": [
      "23/07/21 22:52:04 WARN NativeCodeLoader: Unable to load native-hadoop library for your platform... using builtin-java classes where applicable\n"
     ]
    }
   ],
   "source": [
    "import sys\n",
    "from pyspark.sql import SparkSession, functions, types\n",
    "\n",
    "spark = SparkSession.builder.appName('reddit averages').getOrCreate()\n",
    "spark.sparkContext.setLogLevel('WARN')\n",
    "\n",
    "assert sys.version_info >= (3, 8) # make sure we have Python 3.8+\n",
    "assert spark.version >= '3.2' # make sure we have Spark 3.2+\n",
    "\n",
    "\n",
    "pages_schema = types.StructType([\n",
    "    types.StructField('language', types.StringType()),\n",
    "    types.StructField('title', types.StringType()),\n",
    "    types.StructField('requests', types.LongType()),\n",
    "    types.StructField('bytes', types.LongType())\n",
    "])\n",
    "\n",
    "def filter_path(path):\n",
    "    path = path.removesuffix('.gz')\n",
    "    path = path[-15:]\n",
    "    path = path[0:-4]\n",
    "    return path\n",
    "    \n",
    "\n",
    "\n",
    "def main(in_directory, out_directory):\n",
    "    comments = spark.read.json(in_directory, schema=comments_schema)\n",
    "\n",
    "    \n",
    "    # TODO: calculate averages, sort by subreddit. Sort by average score and output that too.\n",
    "\n",
    "    \n",
    "\n",
    "    #averages_by_subreddit.write.csv(out_directory + '-subreddit', mode='overwrite')\n",
    "    #averages_by_score.write.csv(out_directory + '-score', mode='overwrite')\n"
   ]
  },
  {
   "cell_type": "code",
   "execution_count": 10,
   "id": "49cd3883",
   "metadata": {},
   "outputs": [],
   "source": [
    "pages = spark.read.csv('pagecounts-1', sep=' ', schema=pages_schema).withColumn('filename', functions.input_file_name())\n",
    "pages = pages.filter(pages.language=='en')\n",
    "pages = pages.filter(pages.title!='Main_Page')\n",
    "pages = pages.filter(~pages.title.contains('Special:'))"
   ]
  },
  {
   "cell_type": "code",
   "execution_count": 7,
   "id": "d64363e5",
   "metadata": {},
   "outputs": [
    {
     "name": "stdout",
     "output_type": "stream",
     "text": [
      "+--------+--------------------+--------+-------+--------------------+-----------+\n",
      "|language|               title|requests|  bytes|            filename|       hour|\n",
      "+--------+--------------------+--------+-------+--------------------+-----------+\n",
      "|      en|Simon_%22Ghost%22...|       2|  39816|file:///Users/yvo...|20160801-21|\n",
      "|      en| Simon_%26_Garfunkel|      91|4543932|file:///Users/yvo...|20160801-21|\n",
      "|      en|Simon_%26_Garfunk...|      19| 748974|file:///Users/yvo...|20160801-21|\n",
      "|      en|  Simon_%26_Schuster|      18| 883010|file:///Users/yvo...|20160801-21|\n",
      "|      en|Simon_%26_Schuste...|       1|   6651|file:///Users/yvo...|20160801-21|\n",
      "|      en|Simon_%26_Schuste...|       1|  28288|file:///Users/yvo...|20160801-21|\n",
      "|      en|Simon_%26_Schuste...|       1|  28333|file:///Users/yvo...|20160801-21|\n",
      "|      en|Simon_%26_Schuste...|       1|  28338|file:///Users/yvo...|20160801-21|\n",
      "|      en|Simon_%26_Schuste...|       1|  28316|file:///Users/yvo...|20160801-21|\n",
      "|      en|Simon_%26_Schuste...|       1|  28317|file:///Users/yvo...|20160801-21|\n",
      "|      en|     Simon_%26_Simon|      11| 268170|file:///Users/yvo...|20160801-21|\n",
      "|      en|    Simon_%28game%29|       1|  22180|file:///Users/yvo...|20160801-21|\n",
      "|      en|   Simon_%C5%A0pilak|       1|  13958|file:///Users/yvo...|20160801-21|\n",
      "|      en|   Simon_(1980_film)|       1|  10414|file:///Users/yvo...|20160801-21|\n",
      "|      en|Simon_(Battlestar...|       1|  39731|file:///Users/yvo...|20160801-21|\n",
      "|      en|Simon_(Gurren_Lag...|       1|  36043|file:///Users/yvo...|20160801-21|\n",
      "|      en|Simon_(brother_of...|       1|  14932|file:///Users/yvo...|20160801-21|\n",
      "|      en|         Simon_(cat)|       1|  14103|file:///Users/yvo...|20160801-21|\n",
      "|      en|      Simon_(cipher)|       1|  13668|file:///Users/yvo...|20160801-21|\n",
      "|      en|    Simon_(computer)|       1|   9949|file:///Users/yvo...|20160801-21|\n",
      "+--------+--------------------+--------+-------+--------------------+-----------+\n",
      "only showing top 20 rows\n",
      "\n"
     ]
    }
   ],
   "source": [
    "pages.show()\n"
   ]
  },
  {
   "cell_type": "code",
   "execution_count": 11,
   "id": "e7f777d0",
   "metadata": {},
   "outputs": [
    {
     "name": "stdout",
     "output_type": "stream",
     "text": [
      "+--------+--------------------+--------+-------+--------------------+-----------+\n",
      "|language|               title|requests|  bytes|            filename|       hour|\n",
      "+--------+--------------------+--------+-------+--------------------+-----------+\n",
      "|      en|Simon_%22Ghost%22...|       2|  39816|file:///Users/yvo...|20160801-21|\n",
      "|      en| Simon_%26_Garfunkel|      91|4543932|file:///Users/yvo...|20160801-21|\n",
      "|      en|Simon_%26_Garfunk...|      19| 748974|file:///Users/yvo...|20160801-21|\n",
      "|      en|  Simon_%26_Schuster|      18| 883010|file:///Users/yvo...|20160801-21|\n",
      "|      en|Simon_%26_Schuste...|       1|   6651|file:///Users/yvo...|20160801-21|\n",
      "|      en|Simon_%26_Schuste...|       1|  28288|file:///Users/yvo...|20160801-21|\n",
      "|      en|Simon_%26_Schuste...|       1|  28333|file:///Users/yvo...|20160801-21|\n",
      "|      en|Simon_%26_Schuste...|       1|  28338|file:///Users/yvo...|20160801-21|\n",
      "|      en|Simon_%26_Schuste...|       1|  28316|file:///Users/yvo...|20160801-21|\n",
      "|      en|Simon_%26_Schuste...|       1|  28317|file:///Users/yvo...|20160801-21|\n",
      "|      en|     Simon_%26_Simon|      11| 268170|file:///Users/yvo...|20160801-21|\n",
      "|      en|    Simon_%28game%29|       1|  22180|file:///Users/yvo...|20160801-21|\n",
      "|      en|   Simon_%C5%A0pilak|       1|  13958|file:///Users/yvo...|20160801-21|\n",
      "|      en|   Simon_(1980_film)|       1|  10414|file:///Users/yvo...|20160801-21|\n",
      "|      en|Simon_(Battlestar...|       1|  39731|file:///Users/yvo...|20160801-21|\n",
      "|      en|Simon_(Gurren_Lag...|       1|  36043|file:///Users/yvo...|20160801-21|\n",
      "|      en|Simon_(brother_of...|       1|  14932|file:///Users/yvo...|20160801-21|\n",
      "|      en|         Simon_(cat)|       1|  14103|file:///Users/yvo...|20160801-21|\n",
      "|      en|      Simon_(cipher)|       1|  13668|file:///Users/yvo...|20160801-21|\n",
      "|      en|    Simon_(computer)|       1|   9949|file:///Users/yvo...|20160801-21|\n",
      "+--------+--------------------+--------+-------+--------------------+-----------+\n",
      "only showing top 20 rows\n",
      "\n"
     ]
    }
   ],
   "source": [
    "path_to_hour = functions.udf(filter_path, returnType = types.StringType())\n",
    "pages = pages.withColumn('hour', path_to_hour(pages.filename))\n",
    "pages.show()"
   ]
  },
  {
   "cell_type": "code",
   "execution_count": 12,
   "id": "1b887ede",
   "metadata": {},
   "outputs": [
    {
     "name": "stdout",
     "output_type": "stream",
     "text": [
      "+-----------+-------------+\n",
      "|       hour|max(requests)|\n",
      "+-----------+-------------+\n",
      "|20160801-15|          173|\n",
      "|20160802-14|          198|\n",
      "|20160801-21|          178|\n",
      "|20160801-14|          176|\n",
      "|20160801-13|          127|\n",
      "|20160801-16|          180|\n",
      "|20160802-12|          148|\n",
      "|20160802-13|          140|\n",
      "|20160801-12|          131|\n",
      "|20160802-15|          156|\n",
      "|20160802-16|          179|\n",
      "|20160801-20|          177|\n",
      "|20160801-11|          154|\n",
      "|20160801-18|          146|\n",
      "|20160801-17|          149|\n",
      "|20160802-21|          142|\n",
      "|20160802-19|          155|\n",
      "|20160802-17|          141|\n",
      "|20160801-19|          164|\n",
      "|20160802-18|          163|\n",
      "+-----------+-------------+\n",
      "only showing top 20 rows\n",
      "\n",
      "+-----------+--------+-------------+--------+-------+--------------------+-------------+\n",
      "|       hour|language|        title|requests|  bytes|            filename|max(requests)|\n",
      "+-----------+--------+-------------+--------+-------+--------------------+-------------+\n",
      "|20160801-00|      en|   Simon_Pegg|     146|4536966|file:///Users/yvo...|          146|\n",
      "|20160801-01|      en|   Simon_Pegg|     170|5352225|file:///Users/yvo...|          170|\n",
      "|20160801-02|      en|   Simon_Pegg|     139|4552633|file:///Users/yvo...|          139|\n",
      "|20160801-03|      en|   Simon_Pegg|     175|5149558|file:///Users/yvo...|          175|\n",
      "|20160801-04|      en|   Simon_Pegg|     135|4114505|file:///Users/yvo...|          135|\n",
      "|20160801-05|      en|   Simon_Pegg|     109|3225857|file:///Users/yvo...|          109|\n",
      "|20160801-06|      en|   Simon_Pegg|      96|3101797|file:///Users/yvo...|           96|\n",
      "|20160801-06|      en| Simon_Cowell|      96|5334172|file:///Users/yvo...|           96|\n",
      "|20160801-07|      en|   Simon_Pegg|     101|3399299|file:///Users/yvo...|          101|\n",
      "|20160801-08|      en|   Simon_Pegg|     119|3648693|file:///Users/yvo...|          119|\n",
      "|20160801-09|      en| Simon_Cowell|     127|7016484|file:///Users/yvo...|          127|\n",
      "|20160801-10|      en| Simon_Cowell|     148|8538674|file:///Users/yvo...|          148|\n",
      "|20160801-11|      en| Simon_Cowell|     154|8763492|file:///Users/yvo...|          154|\n",
      "|20160801-12|      en| Simon_Cowell|     131|7529562|file:///Users/yvo...|          131|\n",
      "|20160801-13|      en|   Simon_Pegg|     127|4059223|file:///Users/yvo...|          127|\n",
      "|20160801-14|      en|Simon_Helberg|     176|3422892|file:///Users/yvo...|          176|\n",
      "|20160801-15|      en|   Simon_Pegg|     173|5483982|file:///Users/yvo...|          173|\n",
      "|20160801-16|      en|   Simon_Pegg|     180|5891906|file:///Users/yvo...|          180|\n",
      "|20160801-17|      en|   Simon_Pegg|     149|4687403|file:///Users/yvo...|          149|\n",
      "|20160801-18|      en|   Simon_Pegg|     146|4559105|file:///Users/yvo...|          146|\n",
      "+-----------+--------+-------------+--------+-------+--------------------+-------------+\n",
      "only showing top 20 rows\n",
      "\n"
     ]
    }
   ],
   "source": [
    "\n",
    "max_requests = pages.groupBy(pages['hour']).max('requests')\n",
    "\n",
    "pages = pages.join(max_requests, 'hour')\n",
    "pages = pages.filter(pages['requests'] == pages['max(requests)'])\n",
    "# pages = pages.sort([\"hour\"], ascending=[True])\n",
    "pages = pages.sort([\"hour\", \"title\"], ascending=[True])\n",
    "\n",
    "max_requests.show()\n",
    "pages.show()"
   ]
  },
  {
   "cell_type": "code",
   "execution_count": 142,
   "id": "db040ca3",
   "metadata": {},
   "outputs": [],
   "source": [
    "pages = pages.orderBy(functions.col('hour'), functions.col('title'), ascending=True)\n",
    "# pages = pages.orderBy([\"title\"], ascending=[True])\n",
    "\n",
    "\n",
    "result = pages.select(\n",
    "    pages['hour'],\n",
    "    pages['title'],\n",
    "    pages['max(requests)']\n",
    ")\n",
    "result.write.csv('output_wiki', compression=None, mode='overwrite')"
   ]
  },
  {
   "cell_type": "code",
   "execution_count": 143,
   "id": "a794bdb3",
   "metadata": {},
   "outputs": [
    {
     "name": "stderr",
     "output_type": "stream",
     "text": [
      "\r",
      "[Stage 193:============================>                            (2 + 2) / 4]\r",
      "\r",
      "                                                                                \r"
     ]
    },
    {
     "name": "stdout",
     "output_type": "stream",
     "text": [
      "+-----------+--------+-------------+--------+-------+--------------------+-------------+\n",
      "|       hour|language|        title|requests|  bytes|            filename|max(requests)|\n",
      "+-----------+--------+-------------+--------+-------+--------------------+-------------+\n",
      "|20160801-00|      en|   Simon_Pegg|     146|4536966|file:///Users/Jef...|          146|\n",
      "|20160801-01|      en|   Simon_Pegg|     170|5352225|file:///Users/Jef...|          170|\n",
      "|20160801-02|      en|   Simon_Pegg|     139|4552633|file:///Users/Jef...|          139|\n",
      "|20160801-03|      en|   Simon_Pegg|     175|5149558|file:///Users/Jef...|          175|\n",
      "|20160801-04|      en|   Simon_Pegg|     135|4114505|file:///Users/Jef...|          135|\n",
      "|20160801-05|      en|   Simon_Pegg|     109|3225857|file:///Users/Jef...|          109|\n",
      "|20160801-06|      en| Simon_Cowell|      96|5334172|file:///Users/Jef...|           96|\n",
      "|20160801-06|      en|   Simon_Pegg|      96|3101797|file:///Users/Jef...|           96|\n",
      "|20160801-07|      en|   Simon_Pegg|     101|3399299|file:///Users/Jef...|          101|\n",
      "|20160801-08|      en|   Simon_Pegg|     119|3648693|file:///Users/Jef...|          119|\n",
      "|20160801-09|      en| Simon_Cowell|     127|7016484|file:///Users/Jef...|          127|\n",
      "|20160801-10|      en| Simon_Cowell|     148|8538674|file:///Users/Jef...|          148|\n",
      "|20160801-11|      en| Simon_Cowell|     154|8763492|file:///Users/Jef...|          154|\n",
      "|20160801-12|      en| Simon_Cowell|     131|7529562|file:///Users/Jef...|          131|\n",
      "|20160801-13|      en|   Simon_Pegg|     127|4059223|file:///Users/Jef...|          127|\n",
      "|20160801-14|      en|Simon_Helberg|     176|3422892|file:///Users/Jef...|          176|\n",
      "|20160801-15|      en|   Simon_Pegg|     173|5483982|file:///Users/Jef...|          173|\n",
      "|20160801-16|      en|   Simon_Pegg|     180|5891906|file:///Users/Jef...|          180|\n",
      "|20160801-17|      en|   Simon_Pegg|     149|4687403|file:///Users/Jef...|          149|\n",
      "|20160801-18|      en|   Simon_Pegg|     146|4559105|file:///Users/Jef...|          146|\n",
      "+-----------+--------+-------------+--------+-------+--------------------+-------------+\n",
      "only showing top 20 rows\n",
      "\n"
     ]
    }
   ],
   "source": [
    "pages.show()"
   ]
  },
  {
   "cell_type": "code",
   "execution_count": 141,
   "id": "94a14f70",
   "metadata": {},
   "outputs": [
    {
     "name": "stderr",
     "output_type": "stream",
     "text": [
      "\r",
      "[Stage 182:============================>                            (2 + 2) / 4]\r",
      "\r",
      "                                                                                \r"
     ]
    },
    {
     "name": "stdout",
     "output_type": "stream",
     "text": [
      "+-----------+-------------+-------------+\n",
      "|       hour|        title|max(requests)|\n",
      "+-----------+-------------+-------------+\n",
      "|20160801-06| Simon_Cowell|           96|\n",
      "|20160801-09| Simon_Cowell|          127|\n",
      "|20160801-10| Simon_Cowell|          148|\n",
      "|20160801-11| Simon_Cowell|          154|\n",
      "|20160801-12| Simon_Cowell|          131|\n",
      "|20160802-06| Simon_Cowell|           95|\n",
      "|20160802-07| Simon_Cowell|           82|\n",
      "|20160802-09| Simon_Cowell|           81|\n",
      "|20160802-10| Simon_Cowell|          125|\n",
      "|20160802-11| Simon_Cowell|          149|\n",
      "|20160802-12| Simon_Cowell|          148|\n",
      "|20160802-15| Simon_Cowell|          156|\n",
      "|20160802-18| Simon_Cowell|          163|\n",
      "|20160801-14|Simon_Helberg|          176|\n",
      "|20160802-05|Simon_Helberg|          303|\n",
      "|20160802-08|Simon_Helberg|           91|\n",
      "|20160802-14|Simon_Helberg|          198|\n",
      "|20160802-16|Simon_Helberg|          179|\n",
      "|20160801-00|   Simon_Pegg|          146|\n",
      "|20160801-01|   Simon_Pegg|          170|\n",
      "+-----------+-------------+-------------+\n",
      "only showing top 20 rows\n",
      "\n"
     ]
    }
   ],
   "source": [
    "result.show()"
   ]
  },
  {
   "cell_type": "code",
   "execution_count": 58,
   "id": "4b71ee8c",
   "metadata": {},
   "outputs": [
    {
     "name": "stdout",
     "output_type": "stream",
     "text": [
      "+--------+--------------------+--------+-------+--------------------+-----------+\n",
      "|language|               title|requests|  bytes|            filename|       hour|\n",
      "+--------+--------------------+--------+-------+--------------------+-----------+\n",
      "|      en|Simon_%22Ghost%22...|       2|  39816|file:///Users/Jef...|20160801-21|\n",
      "|      en| Simon_%26_Garfunkel|      91|4543932|file:///Users/Jef...|20160801-21|\n",
      "|      en|Simon_%26_Garfunk...|      19| 748974|file:///Users/Jef...|20160801-21|\n",
      "|      en|  Simon_%26_Schuster|      18| 883010|file:///Users/Jef...|20160801-21|\n",
      "|      en|Simon_%26_Schuste...|       1|   6651|file:///Users/Jef...|20160801-21|\n",
      "|      en|Simon_%26_Schuste...|       1|  28288|file:///Users/Jef...|20160801-21|\n",
      "|      en|Simon_%26_Schuste...|       1|  28333|file:///Users/Jef...|20160801-21|\n",
      "|      en|Simon_%26_Schuste...|       1|  28338|file:///Users/Jef...|20160801-21|\n",
      "|      en|Simon_%26_Schuste...|       1|  28316|file:///Users/Jef...|20160801-21|\n",
      "|      en|Simon_%26_Schuste...|       1|  28317|file:///Users/Jef...|20160801-21|\n",
      "|      en|     Simon_%26_Simon|      11| 268170|file:///Users/Jef...|20160801-21|\n",
      "|      en|    Simon_%28game%29|       1|  22180|file:///Users/Jef...|20160801-21|\n",
      "|      en|   Simon_%C5%A0pilak|       1|  13958|file:///Users/Jef...|20160801-21|\n",
      "|      en|   Simon_(1980_film)|       1|  10414|file:///Users/Jef...|20160801-21|\n",
      "|      en|Simon_(Battlestar...|       1|  39731|file:///Users/Jef...|20160801-21|\n",
      "|      en|Simon_(Gurren_Lag...|       1|  36043|file:///Users/Jef...|20160801-21|\n",
      "|      en|Simon_(brother_of...|       1|  14932|file:///Users/Jef...|20160801-21|\n",
      "|      en|         Simon_(cat)|       1|  14103|file:///Users/Jef...|20160801-21|\n",
      "|      en|      Simon_(cipher)|       1|  13668|file:///Users/Jef...|20160801-21|\n",
      "|      en|    Simon_(computer)|       1|   9949|file:///Users/Jef...|20160801-21|\n",
      "+--------+--------------------+--------+-------+--------------------+-----------+\n",
      "only showing top 20 rows\n",
      "\n"
     ]
    },
    {
     "name": "stderr",
     "output_type": "stream",
     "text": [
      "Traceback (most recent call last):\n",
      "  File \"/Users/JeffWang/opt/anaconda3/lib/python3.9/site-packages/pyspark/python/lib/pyspark.zip/pyspark/daemon.py\", line 187, in manager\n",
      "  File \"/Users/JeffWang/opt/anaconda3/lib/python3.9/site-packages/pyspark/python/lib/pyspark.zip/pyspark/daemon.py\", line 74, in worker\n",
      "  File \"/Users/JeffWang/opt/anaconda3/lib/python3.9/site-packages/pyspark/python/lib/pyspark.zip/pyspark/worker.py\", line 730, in main\n",
      "    if read_int(infile) == SpecialLengths.END_OF_STREAM:\n",
      "  File \"/Users/JeffWang/opt/anaconda3/lib/python3.9/site-packages/pyspark/python/lib/pyspark.zip/pyspark/serializers.py\", line 595, in read_int\n",
      "    raise EOFError\n",
      "EOFError\n"
     ]
    }
   ],
   "source": []
  },
  {
   "cell_type": "code",
   "execution_count": null,
   "id": "9e9c4b39",
   "metadata": {},
   "outputs": [],
   "source": []
  }
 ],
 "metadata": {
  "kernelspec": {
   "display_name": "Python 3 (ipykernel)",
   "language": "python",
   "name": "python3"
  },
  "language_info": {
   "codemirror_mode": {
    "name": "ipython",
    "version": 3
   },
   "file_extension": ".py",
   "mimetype": "text/x-python",
   "name": "python",
   "nbconvert_exporter": "python",
   "pygments_lexer": "ipython3",
   "version": "3.9.13"
  }
 },
 "nbformat": 4,
 "nbformat_minor": 5
}
