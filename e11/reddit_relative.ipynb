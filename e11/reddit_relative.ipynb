{
 "cells": [
  {
   "cell_type": "code",
   "execution_count": 2,
   "id": "875534cf",
   "metadata": {},
   "outputs": [],
   "source": [
    "import sys\n",
    "assert sys.version_info >= (3, 8) # make sure we have Python 3.8+\n",
    "from pyspark.sql import SparkSession, functions, types\n",
    "\n",
    "comments_schema = types.StructType([\n",
    "    types.StructField('archived', types.BooleanType()),\n",
    "    types.StructField('author', types.StringType()),\n",
    "    types.StructField('author_flair_css_class', types.StringType()),\n",
    "    types.StructField('author_flair_text', types.StringType()),\n",
    "    types.StructField('body', types.StringType()),\n",
    "    types.StructField('controversiality', types.LongType()),\n",
    "    types.StructField('created_utc', types.StringType()),\n",
    "    types.StructField('distinguished', types.StringType()),\n",
    "    types.StructField('downs', types.LongType()),\n",
    "    types.StructField('edited', types.StringType()),\n",
    "    types.StructField('gilded', types.LongType()),\n",
    "    types.StructField('id', types.StringType()),\n",
    "    types.StructField('link_id', types.StringType()),\n",
    "    types.StructField('name', types.StringType()),\n",
    "    types.StructField('parent_id', types.StringType()),\n",
    "    types.StructField('retrieved_on', types.LongType()),\n",
    "    types.StructField('score', types.LongType()),\n",
    "    types.StructField('score_hidden', types.BooleanType()),\n",
    "    types.StructField('subreddit', types.StringType()),\n",
    "    types.StructField('subreddit_id', types.StringType()),\n",
    "    types.StructField('ups', types.LongType()),\n",
    "    #types.StructField('year', types.IntegerType()),\n",
    "    #types.StructField('month', types.IntegerType()),\n",
    "])\n",
    "\n",
    "\n",
    "def main(in_directory, out_directory):\n",
    "    comments = spark.read.json(in_directory, schema=comments_schema)\n",
    "\n",
    "    # TODO\n",
    "\n",
    "    #best_author.write.json(out_directory, mode='overwrite')\n",
    "\n",
    "\n",
    "# if __name__=='__main__':\n",
    "#     in_directory = sys.argv[1]\n",
    "#     out_directory = sys.argv[2]\n",
    "#     spark = SparkSession.builder.appName('Reddit Relative Scores').getOrCreate()\n",
    "#     assert spark.version >= '3.2' # make sure we have Spark 3.2+\n",
    "#     spark.sparkContext.setLogLevel('WARN')\n",
    "\n",
    "#     main(in_directory, out_directory)\n"
   ]
  },
  {
   "cell_type": "code",
   "execution_count": 16,
   "id": "731a42e1",
   "metadata": {},
   "outputs": [],
   "source": [
    "in_directory = 'reddit-1'\n",
    "out_directory = 'output'\n",
    "spark = SparkSession.builder.appName('Reddit Relative Scores').getOrCreate()\n",
    "assert spark.version >= '3.2' # make sure we have Spark 3.2+\n",
    "spark.sparkContext.setLogLevel('WARN')\n",
    "\n",
    "comments = spark.read.json(in_directory, schema=comments_schema)\n"
   ]
  },
  {
   "cell_type": "code",
   "execution_count": 17,
   "id": "ab92ecdd",
   "metadata": {},
   "outputs": [
    {
     "name": "stdout",
     "output_type": "stream",
     "text": [
      "+---------+------------------+-----+-----------------+\n",
      "|subreddit|            author|score|       avg(score)|\n",
      "+---------+------------------+-----+-----------------+\n",
      "|     xkcd|         [deleted]|    1|5.272939881689366|\n",
      "|    scala|             gtani|    1|1.928939237899073|\n",
      "|    scala|            ohdeno|    2|1.928939237899073|\n",
      "|    scala|            ohdeno|    2|1.928939237899073|\n",
      "|     xkcd|         A_Simpson|   10|5.272939881689366|\n",
      "|    scala|             gtani|    1|1.928939237899073|\n",
      "|Genealogy|          Starly24|    2|1.871313672922252|\n",
      "|Genealogy|   StabMasterArson|    1|1.871313672922252|\n",
      "|     xkcd|         PirateMud|    1|5.272939881689366|\n",
      "|     xkcd|        DerFrycook|    2|5.272939881689366|\n",
      "|     xkcd|            whtrbt|    1|5.272939881689366|\n",
      "|     xkcd|           gfixler|    3|5.272939881689366|\n",
      "|     xkcd|genericusername123|    7|5.272939881689366|\n",
      "|     xkcd|        Canteloupe|   17|5.272939881689366|\n",
      "|     xkcd|    AgentConundrum|    2|5.272939881689366|\n",
      "|     xkcd|           ifatree|    1|5.272939881689366|\n",
      "|    scala|          kikibobo|    1|1.928939237899073|\n",
      "|Genealogy| rockmeahmadinejad|    2|1.871313672922252|\n",
      "|     xkcd|       pyroman8813|   10|5.272939881689366|\n",
      "|     xkcd|       theironcode|    1|5.272939881689366|\n",
      "+---------+------------------+-----+-----------------+\n",
      "only showing top 20 rows\n",
      "\n"
     ]
    }
   ],
   "source": [
    "# comments.show()\n",
    "averages = comments.groupBy(comments['subreddit']).avg('score')\n",
    "# cache averages???? test time later\n",
    "averages = averages.filter(averages['avg(score)']>0)\n",
    "comments = comments.join(averages, 'subreddit')\n",
    "comments = comments.withColumn(\"rel_score\", comments['score']/comments['avg(score)'])"
   ]
  },
  {
   "cell_type": "code",
   "execution_count": 22,
   "id": "4976c6b7",
   "metadata": {},
   "outputs": [
    {
     "name": "stdout",
     "output_type": "stream",
     "text": [
      "+---------+------------------+-----+-----------------+------------------+-----------------+\n",
      "|subreddit|            author|score|       avg(score)|         rel_score|   max(rel_score)|\n",
      "+---------+------------------+-----+-----------------+------------------+-----------------+\n",
      "|     xkcd|         [deleted]|    1|5.272939881689366|0.1896475253724334|63.15262594902032|\n",
      "|     xkcd|         A_Simpson|   10|5.272939881689366| 1.896475253724334|63.15262594902032|\n",
      "|     xkcd|         PirateMud|    1|5.272939881689366|0.1896475253724334|63.15262594902032|\n",
      "|     xkcd|        DerFrycook|    2|5.272939881689366|0.3792950507448668|63.15262594902032|\n",
      "|     xkcd|            whtrbt|    1|5.272939881689366|0.1896475253724334|63.15262594902032|\n",
      "|     xkcd|           gfixler|    3|5.272939881689366|0.5689425761173001|63.15262594902032|\n",
      "|     xkcd|genericusername123|    7|5.272939881689366|1.3275326776070338|63.15262594902032|\n",
      "|     xkcd|        Canteloupe|   17|5.272939881689366| 3.224007931331368|63.15262594902032|\n",
      "|     xkcd|    AgentConundrum|    2|5.272939881689366|0.3792950507448668|63.15262594902032|\n",
      "|     xkcd|           ifatree|    1|5.272939881689366|0.1896475253724334|63.15262594902032|\n",
      "|     xkcd|       pyroman8813|   10|5.272939881689366| 1.896475253724334|63.15262594902032|\n",
      "|     xkcd|       theironcode|    1|5.272939881689366|0.1896475253724334|63.15262594902032|\n",
      "|     xkcd|          round222|    1|5.272939881689366|0.1896475253724334|63.15262594902032|\n",
      "|     xkcd|            Rekzai|   31|5.272939881689366| 5.879073286545435|63.15262594902032|\n",
      "|     xkcd|          Antebios|    2|5.272939881689366|0.3792950507448668|63.15262594902032|\n",
      "|     xkcd|          chrunchy|   12|5.272939881689366|2.2757703044692006|63.15262594902032|\n",
      "|     xkcd|         [deleted]|    1|5.272939881689366|0.1896475253724334|63.15262594902032|\n",
      "|     xkcd|           plbogen|    1|5.272939881689366|0.1896475253724334|63.15262594902032|\n",
      "|     xkcd|             sje46|    2|5.272939881689366|0.3792950507448668|63.15262594902032|\n",
      "|     xkcd|          Graendal|    4|5.272939881689366|0.7585901014897336|63.15262594902032|\n",
      "+---------+------------------+-----+-----------------+------------------+-----------------+\n",
      "only showing top 20 rows\n",
      "\n"
     ]
    }
   ],
   "source": [
    "max_score = comments.groupBy(comments['subreddit']).max('rel_score')\n",
    "comments = comments.join(max_score, 'subreddit')\n",
    "comments.show()"
   ]
  },
  {
   "cell_type": "code",
   "execution_count": 23,
   "id": "eb6fafbf",
   "metadata": {},
   "outputs": [
    {
     "name": "stdout",
     "output_type": "stream",
     "text": [
      "+---------+-----------+-----+------------------+------------------+------------------+\n",
      "|subreddit|     author|score|        avg(score)|         rel_score|    max(rel_score)|\n",
      "+---------+-----------+-----+------------------+------------------+------------------+\n",
      "|     xkcd|  shigawire|  333| 5.272939881689366| 63.15262594902032| 63.15262594902032|\n",
      "|    scala|   TheSmoke|   17| 1.928939237899073| 8.813134009610252| 8.813134009610252|\n",
      "|optometry|Klinefelter|    6|1.4701986754966887| 4.081081081081082| 4.081081081081082|\n",
      "|  Cameras|  [deleted]|    2|1.2222222222222223|1.6363636363636362|1.6363636363636362|\n",
      "|  Cameras|TogOfStills|    2|1.2222222222222223|1.6363636363636362|1.6363636363636362|\n",
      "|Genealogy|  ackbar420|   12| 1.871313672922252| 6.412607449856734| 6.412607449856734|\n",
      "+---------+-----------+-----+------------------+------------------+------------------+\n",
      "\n"
     ]
    }
   ],
   "source": [
    "comments = comments.filter(comments['rel_score'] == comments['max(rel_score)'])\n",
    "comments.show()"
   ]
  },
  {
   "cell_type": "code",
   "execution_count": 24,
   "id": "af2f37c2",
   "metadata": {},
   "outputs": [
    {
     "name": "stderr",
     "output_type": "stream",
     "text": [
      "                                                                                \r"
     ]
    },
    {
     "name": "stdout",
     "output_type": "stream",
     "text": [
      "+---------+-----------+------------------+\n",
      "|subreddit|     author|         rel_score|\n",
      "+---------+-----------+------------------+\n",
      "|     xkcd|  shigawire| 63.15262594902032|\n",
      "|    scala|   TheSmoke| 8.813134009610252|\n",
      "|optometry|Klinefelter| 4.081081081081082|\n",
      "|  Cameras|  [deleted]|1.6363636363636362|\n",
      "|  Cameras|TogOfStills|1.6363636363636362|\n",
      "|Genealogy|  ackbar420| 6.412607449856734|\n",
      "+---------+-----------+------------------+\n",
      "\n"
     ]
    }
   ],
   "source": [
    "best_author = comments.select(\"subreddit\", \"author\", \"rel_score\")\n",
    "best_author.show()"
   ]
  },
  {
   "cell_type": "code",
   "execution_count": null,
   "id": "da102761",
   "metadata": {},
   "outputs": [],
   "source": []
  }
 ],
 "metadata": {
  "kernelspec": {
   "display_name": "Python 3 (ipykernel)",
   "language": "python",
   "name": "python3"
  },
  "language_info": {
   "codemirror_mode": {
    "name": "ipython",
    "version": 3
   },
   "file_extension": ".py",
   "mimetype": "text/x-python",
   "name": "python",
   "nbconvert_exporter": "python",
   "pygments_lexer": "ipython3",
   "version": "3.9.12"
  }
 },
 "nbformat": 4,
 "nbformat_minor": 5
}
