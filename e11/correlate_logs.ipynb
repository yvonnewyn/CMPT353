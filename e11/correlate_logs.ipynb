{
 "cells": [
  {
   "cell_type": "code",
   "execution_count": 106,
   "id": "1e214258",
   "metadata": {},
   "outputs": [],
   "source": [
    "import sys\n",
    "import pandas as pd\n",
    "from pyspark.sql.types import IntegerType\n",
    "from pyspark.sql.functions import lit\n",
    "import math\n",
    "assert sys.version_info >= (3, 8) # make sure we have Python 3.8+\n",
    "from pyspark.sql import SparkSession, functions, types, Row\n",
    "import re\n",
    "\n",
    "\n",
    "line_re = re.compile(r\"^(\\S+) - - \\[\\S+ [+-]\\d+\\] \\\"[A-Z]+ \\S+ HTTP/\\d\\.\\d\\\" \\d+ (\\d+)$\")\n",
    "\n",
    "\n",
    "def line_to_row(line):\n",
    "    \"\"\"\n",
    "    Take a logfile line and return a Row object with hostname and bytes transferred.\n",
    "    Return None if regex doesn't match.\n",
    "    \"\"\"\n",
    "    m = line_re.match(line)\n",
    "    if m:\n",
    "        # TODO\n",
    "        return Row(hostname=m.group(1), bytes=m.group(2))\n",
    "#         print((m.group(1)))\n",
    "    else:\n",
    "        return None\n",
    "\n",
    "\n",
    "def not_none(row):\n",
    "    \"\"\"\n",
    "    Is this None? Hint: .filter() with it.\n",
    "    \"\"\"\n",
    "    return row is not None\n",
    "\n",
    "\n",
    "def create_row_rdd(in_directory):\n",
    "    log_lines = spark.sparkContext.textFile(in_directory + \"/*\")\n",
    "    \n",
    "    # TODO: return an RDD of Row() objects\n",
    "    rows = log_lines.map(lambda x: line_to_row(x))\n",
    "    rows = rows.filter(lambda x: not_none(x))\n",
    "    return rows\n",
    "    \n",
    "\n",
    "\n",
    "def main(in_directory):\n",
    "    logs = spark.createDataFrame(create_row_rdd(in_directory))\n",
    "    \n",
    "\n",
    "    # TODO: calculate r.\n",
    "\n",
    "    r = 0 # TODO: it isn't zero.\n",
    "    print(f\"r = {r}\\nr^2 = {r*r}\")\n",
    "    # Built-in function should get the same results.\n",
    "    #print(totals.corr('count', 'bytes'))\n",
    "\n",
    "\n",
    "# if __name__=='__main__':\n",
    "#     in_directory = sys.argv[1]\n",
    "#     spark = SparkSession.builder.appName('correlate logs').getOrCreate()\n",
    "#     assert spark.version >= '3.2' # make sure we have Spark 3.2+\n",
    "#     spark.sparkContext.setLogLevel('WARN')\n",
    "\n",
    "#     main(in_directory)\n"
   ]
  },
  {
   "cell_type": "code",
   "execution_count": 3,
   "id": "387b5036",
   "metadata": {},
   "outputs": [
    {
     "name": "stdout",
     "output_type": "stream",
     "text": [
      "22/11/23 17:35:37 WARN Utils: Your hostname, Yvonnes-MacBook.local resolves to a loopback address: 127.0.0.1; using 192.168.0.26 instead (on interface en0)\n",
      "22/11/23 17:35:37 WARN Utils: Set SPARK_LOCAL_IP if you need to bind to another address\n"
     ]
    },
    {
     "name": "stderr",
     "output_type": "stream",
     "text": [
      "Setting default log level to \"WARN\".\n",
      "To adjust logging level use sc.setLogLevel(newLevel). For SparkR, use setLogLevel(newLevel).\n"
     ]
    },
    {
     "name": "stdout",
     "output_type": "stream",
     "text": [
      "22/11/23 17:35:38 WARN NativeCodeLoader: Unable to load native-hadoop library for your platform... using builtin-java classes where applicable\n",
      "22/11/23 17:35:40 WARN Utils: Service 'SparkUI' could not bind on port 4040. Attempting port 4041.\n",
      "22/11/23 17:35:40 WARN Utils: Service 'SparkUI' could not bind on port 4041. Attempting port 4042.\n",
      "22/11/23 17:35:40 WARN Utils: Service 'SparkUI' could not bind on port 4042. Attempting port 4043.\n"
     ]
    }
   ],
   "source": [
    "in_directory = 'nasa-logs-1'\n",
    "spark = SparkSession.builder.appName('correlate logs').getOrCreate()\n",
    "assert spark.version >= '3.2' # make sure we have Spark 3.2+\n",
    "spark.sparkContext.setLogLevel('WARN')\n",
    "\n"
   ]
  },
  {
   "cell_type": "code",
   "execution_count": 41,
   "id": "e82706e5",
   "metadata": {},
   "outputs": [],
   "source": []
  },
  {
   "cell_type": "code",
   "execution_count": 94,
   "id": "2f595642",
   "metadata": {},
   "outputs": [
    {
     "name": "stdout",
     "output_type": "stream",
     "text": [
      "+--------------------+-----+\n",
      "|            hostname|bytes|\n",
      "+--------------------+-----+\n",
      "|   in24.inetnebr.com| 1839|\n",
      "|     uplherc.upl.com|    0|\n",
      "|     uplherc.upl.com|    0|\n",
      "|     uplherc.upl.com|    0|\n",
      "|     uplherc.upl.com|    0|\n",
      "|ix-esc-ca2-07.ix....| 1713|\n",
      "|     uplherc.upl.com|    0|\n",
      "|slppp6.intermind.net| 1687|\n",
      "|piweba4y.prodigy.com|11853|\n",
      "|slppp6.intermind.net| 9202|\n",
      "|slppp6.intermind.net| 3635|\n",
      "|ix-esc-ca2-07.ix....| 1173|\n",
      "|slppp6.intermind.net| 3047|\n",
      "|     uplherc.upl.com|    0|\n",
      "|        133.43.96.45|10566|\n",
      "|kgtyk4.kj.yamagat...| 7280|\n",
      "|kgtyk4.kj.yamagat...| 5866|\n",
      "|     d0ucr6.fnal.gov| 2743|\n",
      "|ix-esc-ca2-07.ix....| 6849|\n",
      "|     d0ucr6.fnal.gov|14897|\n",
      "+--------------------+-----+\n",
      "only showing top 20 rows\n",
      "\n"
     ]
    }
   ],
   "source": [
    "logs = spark.createDataFrame(create_row_rdd(in_directory))\n",
    "logs.show()"
   ]
  },
  {
   "cell_type": "code",
   "execution_count": 95,
   "id": "44cb415c",
   "metadata": {},
   "outputs": [],
   "source": [
    "logs = logs.withColumn('bytes', logs['bytes'].cast(IntegerType()))\n",
    "logs = logs.groupby('hostname').agg(functions.count('hostname').alias('requests'),\n",
    "                                    functions.sum('bytes').alias('total_bytes'))\n",
    "logs = logs.withColumn(\"requests^2\", logs['requests']*logs['requests'])\n",
    "logs = logs.withColumn(\"total_bytes^2\", logs['total_bytes']*logs['total_bytes'])\n",
    "logs = logs.withColumn(\"requests*total_bytes\", logs['requests']*logs['total_bytes'])\n",
    "logs = logs.withColumn(\"datapoints\", lit(1))"
   ]
  },
  {
   "cell_type": "code",
   "execution_count": 96,
   "id": "f47ec150",
   "metadata": {},
   "outputs": [
    {
     "name": "stdout",
     "output_type": "stream",
     "text": [
      "+--------------------+--------+-----------+----------+--------------+--------------------+----------+\n",
      "|            hostname|requests|total_bytes|requests^2| total_bytes^2|requests*total_bytes|datapoints|\n",
      "+--------------------+--------+-----------+----------+--------------+--------------------+----------+\n",
      "|ix-sea6-23.ix.net...|      18|     113562|       324|   12896327844|             2044116|         1|\n",
      "|grimnet23.idirect...|      10|       7768|       100|      60341824|               77680|         1|\n",
      "|   in24.inetnebr.com|      70|     674554|      4900|  455023098916|            47218780|         1|\n",
      "|  pwestec.sierra.net|      16|      67462|       256|    4551121444|             1079392|         1|\n",
      "|     pm6a3.sover.net|      22|      75874|       484|    5756863876|             1669228|         1|\n",
      "|www-b5.proxy.aol.com|      46|     446840|      2116|  199665985600|            20554640|         1|\n",
      "|ix-min1-02.ix.net...|      52|     232606|      2704|   54105551236|            12095512|         1|\n",
      "|marimo.kushiro-ct...|       4|     101794|        16|   10362018436|              407176|         1|\n",
      "|www-c8.proxy.aol.com|       2|       8648|         4|      74787904|               17296|         1|\n",
      "|       133.68.18.180|      12|      80788|       144|    6526700944|              969456|         1|\n",
      "|      139.230.35.135|      34|     317034|      1156|  100510557156|            10779156|         1|\n",
      "|ix-esc-ca2-07.ix....|      12|      38962|       144|    1518037444|              467544|         1|\n",
      "|haraway.ucet.ufl.edu|      64|    4293072|      4096|18430467197184|           274756608|         1|\n",
      "|ad11-061.compuser...|      26|    1587906|       676| 2521445464836|            41285556|         1|\n",
      "|ad10-015.compuser...|       4|      34306|        16|    1176901636|              137224|         1|\n",
      "|pipe1.nyc.pipelin...|       2|      37112|         4|    1377300544|               74224|         1|\n",
      "|sunset.somcau.siu...|      10|     397626|       100|  158106435876|             3976260|         1|\n",
      "|  van15422.direct.ca|      10|     108622|       100|   11798738884|             1086220|         1|\n",
      "|sutnbgw1.ed.noda....|       2|      14560|         4|     211993600|               29120|         1|\n",
      "| palpk-s13.intac.com|      36|     236024|      1296|   55707328576|             8496864|         1|\n",
      "+--------------------+--------+-----------+----------+--------------+--------------------+----------+\n",
      "only showing top 20 rows\n",
      "\n"
     ]
    }
   ],
   "source": [
    "logs.show()"
   ]
  },
  {
   "cell_type": "code",
   "execution_count": 98,
   "id": "e26f6714",
   "metadata": {},
   "outputs": [],
   "source": [
    "sums = logs.groupBy().sum()"
   ]
  },
  {
   "cell_type": "code",
   "execution_count": 105,
   "id": "e796e791",
   "metadata": {},
   "outputs": [
    {
     "data": {
      "text/plain": [
       "Row(sum(requests)=3944, sum(total_bytes)=72267472, sum(requests^2)=130240, sum(total_bytes^2)=102925029846104, sum(requests*total_bytes)=2648718932, sum(datapoints)=232)"
      ]
     },
     "execution_count": 105,
     "metadata": {},
     "output_type": "execute_result"
    }
   ],
   "source": [
    "sums.first()\n"
   ]
  },
  {
   "cell_type": "code",
   "execution_count": 107,
   "id": "00258951",
   "metadata": {},
   "outputs": [
    {
     "name": "stderr",
     "output_type": "stream",
     "text": [
      "                                                                                \r"
     ]
    },
    {
     "data": {
      "text/plain": [
       "0.6300055382471266"
      ]
     },
     "execution_count": 107,
     "metadata": {},
     "output_type": "execute_result"
    }
   ],
   "source": [
    "n = sums.first()['sum(datapoints)']\n",
    "x = sums.first()['sum(requests)']\n",
    "y = sums.first()['sum(total_bytes)']\n",
    "x2 = sums.first()['sum(requests^2)']\n",
    "y2 = sums.first()['sum(total_bytes^2)']\n",
    "xy = sums.first()['sum(requests*total_bytes)']\n",
    "\n",
    "r = (n*xy-x*y)/(math.sqrt(n*x2-x*x)*math.sqrt(n*y2-y*y))\n",
    "r"
   ]
  },
  {
   "cell_type": "code",
   "execution_count": null,
   "id": "26399303",
   "metadata": {},
   "outputs": [],
   "source": []
  }
 ],
 "metadata": {
  "kernelspec": {
   "display_name": "Python 3 (ipykernel)",
   "language": "python",
   "name": "python3"
  },
  "language_info": {
   "codemirror_mode": {
    "name": "ipython",
    "version": 3
   },
   "file_extension": ".py",
   "mimetype": "text/x-python",
   "name": "python",
   "nbconvert_exporter": "python",
   "pygments_lexer": "ipython3",
   "version": "3.9.12"
  }
 },
 "nbformat": 4,
 "nbformat_minor": 5
}
