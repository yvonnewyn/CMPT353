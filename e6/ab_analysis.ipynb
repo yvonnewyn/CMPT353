{
 "cells": [
  {
   "cell_type": "code",
   "execution_count": 10,
   "id": "2095c92e",
   "metadata": {},
   "outputs": [],
   "source": [
    "import sys\n",
    "import numpy as np\n",
    "import pandas as pd\n",
    "from scipy import stats"
   ]
  },
  {
   "cell_type": "code",
   "execution_count": 9,
   "id": "f023b6a0",
   "metadata": {},
   "outputs": [],
   "source": [
    "OUTPUT_TEMPLATE = (\n",
    "    '\"Did more/less users use the search feature?\" p-value:  {more_users_p:.3g}\\n'\n",
    "    '\"Did users search more/less?\" p-value:  {more_searches_p:.3g} \\n'\n",
    "    '\"Did more/less instructors use the search feature?\" p-value:  {more_instr_p:.3g}\\n'\n",
    "    '\"Did instructors search more/less?\" p-value:  {more_instr_searches_p:.3g}'\n",
    ")"
   ]
  },
  {
   "cell_type": "code",
   "execution_count": 23,
   "id": "89533ff9",
   "metadata": {},
   "outputs": [
    {
     "data": {
      "text/plain": [
       "0.14118207247086972"
      ]
     },
     "execution_count": 23,
     "metadata": {},
     "output_type": "execute_result"
    }
   ],
   "source": [
    "searchdata_file = \"searches.json\"\n",
    "searches = pd.read_json(searchdata_file, orient='records', lines=True)\n",
    "\n",
    "odd = searches[searches['uid']%2==1]\n",
    "even = searches[searches['uid']%2==0]\n",
    "\n",
    "more_searches_p = stats.mannwhitneyu(odd['search_count'], even['search_count']).pvalue\n",
    "more_searches_p"
   ]
  },
  {
   "cell_type": "code",
   "execution_count": 21,
   "id": "49dd250e",
   "metadata": {},
   "outputs": [
    {
     "data": {
      "text/plain": [
       "0.16762970944995664"
      ]
     },
     "execution_count": 21,
     "metadata": {},
     "output_type": "execute_result"
    }
   ],
   "source": [
    "odd_searched = odd[odd['search_count']>0]['search_count'].count()\n",
    "odd_nosearch = odd[odd['search_count']==0]['search_count'].count()\n",
    "even_searched = even[even['search_count']>0]['search_count'].count()\n",
    "even_nosearch = even[even['search_count']==0]['search_count'].count()\n",
    "\n",
    "contingency = [[odd_searched, odd_nosearch], [even_searched, even_nosearch]]\n",
    "\n",
    "chi2, more_users_p, dof, expected = stats.chi2_contingency(contingency)\n",
    "more_users_p"
   ]
  },
  {
   "cell_type": "code",
   "execution_count": 27,
   "id": "5e97d7cb",
   "metadata": {},
   "outputs": [
    {
     "data": {
      "text/plain": [
       "0.044959434016105145"
      ]
     },
     "execution_count": 27,
     "metadata": {},
     "output_type": "execute_result"
    }
   ],
   "source": [
    "instructors_odd = odd[odd['is_instructor']==True]\n",
    "instructors_even = even[even['is_instructor']==True]\n",
    "\n",
    "more_instr_searches_p = stats.mannwhitneyu(instructors_odd['search_count'], instructors_even['search_count']).pvalue\n",
    "more_instr_searches_p"
   ]
  },
  {
   "cell_type": "code",
   "execution_count": 28,
   "id": "b417827d",
   "metadata": {},
   "outputs": [
    {
     "data": {
      "text/plain": [
       "0.052001632770999166"
      ]
     },
     "execution_count": 28,
     "metadata": {},
     "output_type": "execute_result"
    }
   ],
   "source": [
    "instructors_odd_searched = instructors_odd[instructors_odd['search_count']>0]['search_count'].count()\n",
    "instructors_odd_nosearch = instructors_odd[instructors_odd['search_count']==0]['search_count'].count()\n",
    "instructors_even_searched = instructors_even[instructors_even['search_count']>0]['search_count'].count()\n",
    "instructors_even_nosearch = instructors_even[instructors_even['search_count']==0]['search_count'].count()\n",
    "\n",
    "contingency_instr = [[instructors_odd_searched, instructors_odd_nosearch], [instructors_even_searched, instructors_even_nosearch]]\n",
    "\n",
    "chi2_instr, more_instr_p, dof_instr, expected_instr = stats.chi2_contingency(contingency_instr)\n",
    "\n",
    "more_instr_p"
   ]
  },
  {
   "cell_type": "code",
   "execution_count": null,
   "id": "2431d411",
   "metadata": {},
   "outputs": [],
   "source": []
  }
 ],
 "metadata": {
  "kernelspec": {
   "display_name": "Python 3 (ipykernel)",
   "language": "python",
   "name": "python3"
  },
  "language_info": {
   "codemirror_mode": {
    "name": "ipython",
    "version": 3
   },
   "file_extension": ".py",
   "mimetype": "text/x-python",
   "name": "python",
   "nbconvert_exporter": "python",
   "pygments_lexer": "ipython3",
   "version": "3.9.12"
  }
 },
 "nbformat": 4,
 "nbformat_minor": 5
}
