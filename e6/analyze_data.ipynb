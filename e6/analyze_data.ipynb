{
 "cells": [
  {
   "cell_type": "code",
   "execution_count": 6,
   "id": "5f7d95ad",
   "metadata": {},
   "outputs": [],
   "source": [
    "from scipy import stats\n",
    "import numpy as np\n",
    "import pandas as pd\n",
    "import time\n",
    "import random\n",
    "from implementations import all_implementations\n",
    "from statsmodels.stats.multicomp import pairwise_tukeyhsd"
   ]
  },
  {
   "cell_type": "code",
   "execution_count": 3,
   "id": "4a517f29",
   "metadata": {},
   "outputs": [
    {
     "data": {
      "text/html": [
       "<div>\n",
       "<style scoped>\n",
       "    .dataframe tbody tr th:only-of-type {\n",
       "        vertical-align: middle;\n",
       "    }\n",
       "\n",
       "    .dataframe tbody tr th {\n",
       "        vertical-align: top;\n",
       "    }\n",
       "\n",
       "    .dataframe thead th {\n",
       "        text-align: right;\n",
       "    }\n",
       "</style>\n",
       "<table border=\"1\" class=\"dataframe\">\n",
       "  <thead>\n",
       "    <tr style=\"text-align: right;\">\n",
       "      <th></th>\n",
       "      <th>qs1</th>\n",
       "      <th>qs2</th>\n",
       "      <th>qs3</th>\n",
       "      <th>qs4</th>\n",
       "      <th>qs5</th>\n",
       "      <th>merge1</th>\n",
       "      <th>partition_sort</th>\n",
       "    </tr>\n",
       "  </thead>\n",
       "  <tbody>\n",
       "    <tr>\n",
       "      <th>0</th>\n",
       "      <td>0.086293</td>\n",
       "      <td>0.113001</td>\n",
       "      <td>0.103556</td>\n",
       "      <td>0.218460</td>\n",
       "      <td>0.230162</td>\n",
       "      <td>0.197368</td>\n",
       "      <td>0.049589</td>\n",
       "    </tr>\n",
       "    <tr>\n",
       "      <th>1</th>\n",
       "      <td>0.091774</td>\n",
       "      <td>0.112546</td>\n",
       "      <td>0.069684</td>\n",
       "      <td>0.075595</td>\n",
       "      <td>0.075624</td>\n",
       "      <td>0.090588</td>\n",
       "      <td>0.074657</td>\n",
       "    </tr>\n",
       "    <tr>\n",
       "      <th>2</th>\n",
       "      <td>0.084119</td>\n",
       "      <td>0.080176</td>\n",
       "      <td>0.155752</td>\n",
       "      <td>0.168733</td>\n",
       "      <td>0.108104</td>\n",
       "      <td>0.134066</td>\n",
       "      <td>0.093747</td>\n",
       "    </tr>\n",
       "    <tr>\n",
       "      <th>3</th>\n",
       "      <td>0.275229</td>\n",
       "      <td>0.398234</td>\n",
       "      <td>0.161934</td>\n",
       "      <td>0.117852</td>\n",
       "      <td>0.092966</td>\n",
       "      <td>0.088572</td>\n",
       "      <td>0.055878</td>\n",
       "    </tr>\n",
       "    <tr>\n",
       "      <th>4</th>\n",
       "      <td>0.081628</td>\n",
       "      <td>0.093851</td>\n",
       "      <td>0.106505</td>\n",
       "      <td>0.072663</td>\n",
       "      <td>0.056669</td>\n",
       "      <td>0.064347</td>\n",
       "      <td>0.046272</td>\n",
       "    </tr>\n",
       "    <tr>\n",
       "      <th>...</th>\n",
       "      <td>...</td>\n",
       "      <td>...</td>\n",
       "      <td>...</td>\n",
       "      <td>...</td>\n",
       "      <td>...</td>\n",
       "      <td>...</td>\n",
       "      <td>...</td>\n",
       "    </tr>\n",
       "    <tr>\n",
       "      <th>395</th>\n",
       "      <td>0.048346</td>\n",
       "      <td>0.058861</td>\n",
       "      <td>0.057380</td>\n",
       "      <td>0.056051</td>\n",
       "      <td>0.056912</td>\n",
       "      <td>0.063282</td>\n",
       "      <td>0.029217</td>\n",
       "    </tr>\n",
       "    <tr>\n",
       "      <th>396</th>\n",
       "      <td>0.046146</td>\n",
       "      <td>0.062357</td>\n",
       "      <td>0.057906</td>\n",
       "      <td>0.057072</td>\n",
       "      <td>0.062617</td>\n",
       "      <td>0.060388</td>\n",
       "      <td>0.040495</td>\n",
       "    </tr>\n",
       "    <tr>\n",
       "      <th>397</th>\n",
       "      <td>0.049090</td>\n",
       "      <td>0.067705</td>\n",
       "      <td>0.066010</td>\n",
       "      <td>0.058136</td>\n",
       "      <td>0.057003</td>\n",
       "      <td>0.067402</td>\n",
       "      <td>0.028818</td>\n",
       "    </tr>\n",
       "    <tr>\n",
       "      <th>398</th>\n",
       "      <td>0.060200</td>\n",
       "      <td>0.065141</td>\n",
       "      <td>0.070814</td>\n",
       "      <td>0.061883</td>\n",
       "      <td>0.054030</td>\n",
       "      <td>0.073961</td>\n",
       "      <td>0.031547</td>\n",
       "    </tr>\n",
       "    <tr>\n",
       "      <th>399</th>\n",
       "      <td>0.044739</td>\n",
       "      <td>0.055004</td>\n",
       "      <td>0.057502</td>\n",
       "      <td>0.050502</td>\n",
       "      <td>0.048814</td>\n",
       "      <td>0.054154</td>\n",
       "      <td>0.026711</td>\n",
       "    </tr>\n",
       "  </tbody>\n",
       "</table>\n",
       "<p>400 rows × 7 columns</p>\n",
       "</div>"
      ],
      "text/plain": [
       "          qs1       qs2       qs3       qs4       qs5    merge1  \\\n",
       "0    0.086293  0.113001  0.103556  0.218460  0.230162  0.197368   \n",
       "1    0.091774  0.112546  0.069684  0.075595  0.075624  0.090588   \n",
       "2    0.084119  0.080176  0.155752  0.168733  0.108104  0.134066   \n",
       "3    0.275229  0.398234  0.161934  0.117852  0.092966  0.088572   \n",
       "4    0.081628  0.093851  0.106505  0.072663  0.056669  0.064347   \n",
       "..        ...       ...       ...       ...       ...       ...   \n",
       "395  0.048346  0.058861  0.057380  0.056051  0.056912  0.063282   \n",
       "396  0.046146  0.062357  0.057906  0.057072  0.062617  0.060388   \n",
       "397  0.049090  0.067705  0.066010  0.058136  0.057003  0.067402   \n",
       "398  0.060200  0.065141  0.070814  0.061883  0.054030  0.073961   \n",
       "399  0.044739  0.055004  0.057502  0.050502  0.048814  0.054154   \n",
       "\n",
       "     partition_sort  \n",
       "0          0.049589  \n",
       "1          0.074657  \n",
       "2          0.093747  \n",
       "3          0.055878  \n",
       "4          0.046272  \n",
       "..              ...  \n",
       "395        0.029217  \n",
       "396        0.040495  \n",
       "397        0.028818  \n",
       "398        0.031547  \n",
       "399        0.026711  \n",
       "\n",
       "[400 rows x 7 columns]"
      ]
     },
     "execution_count": 3,
     "metadata": {},
     "output_type": "execute_result"
    }
   ],
   "source": [
    "data = pd.read_csv('data.csv')\n",
    "data"
   ]
  },
  {
   "cell_type": "code",
   "execution_count": 15,
   "id": "b911cb0b",
   "metadata": {},
   "outputs": [
    {
     "name": "stdout",
     "output_type": "stream",
     "text": [
      "F_onewayResult(statistic=44.63955242599513, pvalue=2.2013216599168873e-52)\n",
      "anova 2.2013216599168873e-52\n"
     ]
    }
   ],
   "source": [
    "anova = stats.f_oneway(data['qs1'], data['qs2'], data['qs3'], data['qs4'], data['qs5'], data['merge1'], data['partition_sort'])\n",
    "print(anova)\n",
    "print(\"anova\", anova.pvalue)"
   ]
  },
  {
   "cell_type": "code",
   "execution_count": 9,
   "id": "b44d4942",
   "metadata": {},
   "outputs": [
    {
     "name": "stdout",
     "output_type": "stream",
     "text": [
      "        Multiple Comparison of Means - Tukey HSD, FWER=0.05         \n",
      "====================================================================\n",
      "    group1         group2     meandiff p-adj   lower   upper  reject\n",
      "--------------------------------------------------------------------\n",
      "        merge1 partition_sort  -0.0348   -0.0  -0.043 -0.0267   True\n",
      "        merge1            qs1  -0.0183    0.0 -0.0264 -0.0101   True\n",
      "        merge1            qs2   0.0008 0.9999 -0.0073   0.009  False\n",
      "        merge1            qs3  -0.0005    1.0 -0.0086  0.0076  False\n",
      "        merge1            qs4  -0.0073 0.1121 -0.0155  0.0008  False\n",
      "        merge1            qs5  -0.0052 0.4992 -0.0133   0.003  False\n",
      "partition_sort            qs1   0.0166    0.0  0.0084  0.0247   True\n",
      "partition_sort            qs2   0.0357   -0.0  0.0275  0.0438   True\n",
      "partition_sort            qs3   0.0343   -0.0  0.0262  0.0425   True\n",
      "partition_sort            qs4   0.0275   -0.0  0.0194  0.0357   True\n",
      "partition_sort            qs5   0.0297   -0.0  0.0215  0.0378   True\n",
      "           qs1            qs2   0.0191    0.0   0.011  0.0273   True\n",
      "           qs1            qs3   0.0178    0.0  0.0096  0.0259   True\n",
      "           qs1            qs4    0.011 0.0014  0.0028  0.0191   True\n",
      "           qs1            qs5   0.0131    0.0   0.005  0.0213   True\n",
      "           qs2            qs3  -0.0013 0.9991 -0.0095  0.0068  False\n",
      "           qs2            qs4  -0.0081 0.0499 -0.0163    -0.0   True\n",
      "           qs2            qs5   -0.006 0.3097 -0.0141  0.0021  False\n",
      "           qs3            qs4  -0.0068 0.1714  -0.015  0.0013  False\n",
      "           qs3            qs5  -0.0047  0.622 -0.0128  0.0035  False\n",
      "           qs4            qs5   0.0021 0.9872  -0.006  0.0103  False\n",
      "--------------------------------------------------------------------\n"
     ]
    }
   ],
   "source": [
    "x_data = pd.DataFrame({'qs1': data['qs1'],\n",
    "                        'qs2': data['qs2'],\n",
    "                        'qs3': data['qs3'],\n",
    "                        'qs4': data['qs4'],\n",
    "                        'qs5': data['qs5'],\n",
    "                        'merge1': data['merge1'],\n",
    "                        'partition_sort': data['partition_sort']})\n",
    "x_melt = pd.melt(x_data)\n",
    "posthoc = pairwise_tukeyhsd(x_melt['value'], x_melt['variable'], alpha=0.05)\n",
    "print(posthoc)"
   ]
  },
  {
   "cell_type": "code",
   "execution_count": 13,
   "id": "50b70977",
   "metadata": {},
   "outputs": [
    {
     "name": "stdout",
     "output_type": "stream",
     "text": [
      "0.052491674423217775 0.07160723507404326 0.07027297556400298 0.0634610414505005 0.06560499370098113 0.07077221810817717 0.03594031512737274\n"
     ]
    },
    {
     "data": {
      "image/png": "[encoded data removed]",
      "text/plain": [
       "<Figure size 720x432 with 1 Axes>"
      ]
     },
     "metadata": {
      "needs_background": "light"
     },
     "output_type": "display_data"
    }
   ],
   "source": [
    "fig = posthoc.plot_simultaneous()\n",
    "print(data['qs1'].mean(), data['qs2'].mean(), \n",
    "      data['qs3'].mean(), data['qs4'].mean(), \n",
    "      data['qs5'].mean(), data['merge1'].mean(), \n",
    "      data['partition_sort'].mean())"
   ]
  },
  {
   "cell_type": "code",
   "execution_count": null,
   "id": "dabe8006",
   "metadata": {},
   "outputs": [],
   "source": []
  }
 ],
 "metadata": {
  "kernelspec": {
   "display_name": "Python 3 (ipykernel)",
   "language": "python",
   "name": "python3"
  },
  "language_info": {
   "codemirror_mode": {
    "name": "ipython",
    "version": 3
   },
   "file_extension": ".py",
   "mimetype": "text/x-python",
   "name": "python",
   "nbconvert_exporter": "python",
   "pygments_lexer": "ipython3",
   "version": "3.9.12"
  }
 },
 "nbformat": 4,
 "nbformat_minor": 5
}
