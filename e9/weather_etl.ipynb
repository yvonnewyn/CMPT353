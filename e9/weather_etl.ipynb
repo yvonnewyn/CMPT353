{
 "cells": [
  {
   "cell_type": "code",
   "execution_count": 3,
   "id": "45e410cd",
   "metadata": {
    "scrolled": true
   },
   "outputs": [
    {
     "name": "stdout",
     "output_type": "stream",
     "text": [
      "22/11/11 13:58:03 WARN Utils: Your hostname, Yvonnes-MacBook.local resolves to a loopback address: 127.0.0.1; using 192.168.0.26 instead (on interface en0)\n",
      "22/11/11 13:58:03 WARN Utils: Set SPARK_LOCAL_IP if you need to bind to another address\n"
     ]
    },
    {
     "name": "stderr",
     "output_type": "stream",
     "text": [
      "Setting default log level to \"WARN\".\n",
      "To adjust logging level use sc.setLogLevel(newLevel). For SparkR, use setLogLevel(newLevel).\n"
     ]
    },
    {
     "name": "stdout",
     "output_type": "stream",
     "text": [
      "22/11/11 13:58:04 WARN NativeCodeLoader: Unable to load native-hadoop library for your platform... using builtin-java classes where applicable\n"
     ]
    }
   ],
   "source": [
    "import sys\n",
    "from pyspark.sql import SparkSession, functions, types\n",
    "\n",
    "spark = SparkSession.builder.appName('weather ETL').getOrCreate()\n",
    "spark.sparkContext.setLogLevel('WARN')\n",
    "\n",
    "assert sys.version_info >= (3, 8) # make sure we have Python 3.8+\n",
    "assert spark.version >= '3.2' # make sure we have Spark 3.2+\n",
    "\n",
    "observation_schema = types.StructType([\n",
    "    types.StructField('station', types.StringType()),\n",
    "    types.StructField('date', types.StringType()),\n",
    "    types.StructField('observation', types.StringType()),\n",
    "    types.StructField('value', types.IntegerType()),\n",
    "    types.StructField('mflag', types.StringType()),\n",
    "    types.StructField('qflag', types.StringType()),\n",
    "    types.StructField('sflag', types.StringType()),\n",
    "    types.StructField('obstime', types.StringType()),\n",
    "])\n",
    "\n",
    "\n",
    "def main(in_directory, out_directory):\n",
    "\n",
    "    weather = spark.read.csv(in_directory, schema=observation_schema)\n",
    "\n",
    "    # TODO: finish here.\n",
    "    \n",
    "\n",
    "    cleaned_data.write.json(out_directory, compression='gzip', mode='overwrite')\n",
    "\n",
    "\n"
   ]
  },
  {
   "cell_type": "code",
   "execution_count": 12,
   "id": "b7e2d060",
   "metadata": {},
   "outputs": [
    {
     "name": "stdout",
     "output_type": "stream",
     "text": [
      "+-----------+--------+----+\n",
      "|    station|    date|tmax|\n",
      "+-----------+--------+----+\n",
      "|CA003023200|20161203| 3.7|\n",
      "|CA00112FN0M|20161203| 6.4|\n",
      "|CA00401HP5R|20161203| 1.1|\n",
      "|CA001063303|20161203| 7.3|\n",
      "|CA002400573|20161203|-7.2|\n",
      "|CA005010641|20161203|-0.4|\n",
      "|CA00702LED4|20161203| 2.8|\n",
      "|CA001063461|20161203| 8.4|\n",
      "|CA003075770|20161203| 2.4|\n",
      "|CA001015638|20161203| 8.5|\n",
      "|CA006151684|20161203| 4.6|\n",
      "|CA002402354|20161203|-7.6|\n",
      "|CA00402DAF0|20161203| 1.8|\n",
      "|CA003015797|20161203| 3.4|\n",
      "|CA004063605|20161203|-2.2|\n",
      "|CA003073071|20161203| 0.4|\n",
      "|CA003012192|20161203| 1.1|\n",
      "|CA007034482|20161203| 0.3|\n",
      "|CA006153301|20161203| 5.7|\n",
      "|CA006070QK6|20161203|-5.0|\n",
      "+-----------+--------+----+\n",
      "only showing top 20 rows\n",
      "\n"
     ]
    }
   ],
   "source": [
    "weather = spark.read.csv('weather-1', schema=observation_schema)\n",
    "weather = weather.filter(weather.qflag.isNull())\n",
    "weather = weather.filter(weather.station.startswith('CA'))\n",
    "weather = weather.filter(weather.observation == 'TMAX')\n",
    "weather = weather.withColumn('tmax', weather.value/10)\n",
    "\n",
    "cleaned_data = weather.select(weather['station'], weather['date'], weather['tmax'])\n",
    "cleaned_data.show()"
   ]
  },
  {
   "cell_type": "code",
   "execution_count": null,
   "id": "e41dcdc4",
   "metadata": {},
   "outputs": [],
   "source": []
  }
 ],
 "metadata": {
  "kernelspec": {
   "display_name": "Python 3 (ipykernel)",
   "language": "python",
   "name": "python3"
  },
  "language_info": {
   "codemirror_mode": {
    "name": "ipython",
    "version": 3
   },
   "file_extension": ".py",
   "mimetype": "text/x-python",
   "name": "python",
   "nbconvert_exporter": "python",
   "pygments_lexer": "ipython3",
   "version": "3.9.12"
  }
 },
 "nbformat": 4,
 "nbformat_minor": 5
}
