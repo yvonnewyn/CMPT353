{
 "cells": [
  {
   "cell_type": "code",
   "execution_count": 3,
   "id": "39012b1a",
   "metadata": {},
   "outputs": [],
   "source": [
    "import numpy as np\n",
    "import pandas as pd\n",
    "import matplotlib.pyplot as plt\n",
    "from sklearn.model_selection import \\\n",
    "    train_test_split\n",
    "from sklearn.pipeline import make_pipeline\n",
    "from sklearn.preprocessing import \\\n",
    "    MinMaxScaler, StandardScaler, \\\n",
    "    FunctionTransformer\n",
    "from sklearn.decomposition import PCA\n",
    "from sklearn.linear_model import \\\n",
    "    LinearRegression\n",
    "from sklearn.naive_bayes import GaussianNB\n",
    "from sklearn.neighbors import \\\n",
    "    KNeighborsClassifier\n",
    "from sklearn.tree import \\\n",
    "    DecisionTreeClassifier\n",
    "from sklearn.ensemble import \\\n",
    "    RandomForestClassifier\n",
    "from sklearn.neural_network import MLPClassifier\n",
    "from sklearn.cluster import KMeans\n",
    "\n",
    "from sklearn.neighbors import \\\n",
    "    KNeighborsRegressor\n",
    "from sklearn.ensemble import \\\n",
    "    RandomForestRegressor\n",
    "from sklearn.neural_network import MLPRegressor\n",
    "\n",
    "from pyspark.sql import SparkSession, \\\n",
    "    functions, types, Row"
   ]
  },
  {
   "cell_type": "code",
   "execution_count": 8,
   "id": "4ec5d9c7",
   "metadata": {},
   "outputs": [
    {
     "data": {
      "text/plain": [
       "array([ 2.79088513e+00,  1.33324027e+00,  1.53157605e+00,  1.62238859e+00,\n",
       "        1.74878351e+00,  1.39529888e+00,  2.21309052e+00,  1.44522148e+00,\n",
       "       -1.95002780e-02,  2.49748218e+00,  1.94728798e+00,  2.06081499e+00,\n",
       "        2.77196376e+00,  2.32804054e+00,  7.42582364e-01,  2.82489997e+00,\n",
       "        2.09240474e+00,  3.20867801e+00,  1.96873927e+00,  2.88065150e+00,\n",
       "        1.94515306e+00,  2.36802298e+00,  2.36502353e+00,  2.53829674e+00,\n",
       "        1.76546704e+00,  2.53625811e+00,  2.42199988e+00,  3.65440398e+00,\n",
       "        8.04944243e-01,  1.65007531e+00,  2.84730517e+00,  1.15256208e+00,\n",
       "        2.03777809e+00,  1.47650839e+00, -5.74684349e-01,  8.78724870e-01,\n",
       "        3.25045433e+00,  1.04532862e+00,  2.25329086e+00,  2.99789535e+00,\n",
       "        2.67114273e+00,  4.48026178e-01,  7.67766970e-01,  5.08130305e+00,\n",
       "        2.11249484e+00,  4.40585713e+00,  1.75738319e+00,  6.72805369e-01,\n",
       "        3.82310889e-01,  1.57314433e+00,  8.84134291e-01,  1.63663227e+00,\n",
       "        7.76815066e-01,  1.25653739e+00,  3.12032312e+00,  2.02541652e+00,\n",
       "        7.78128098e-01,  3.23379462e+00,  2.74951740e+00,  2.33744971e+00,\n",
       "        1.73347316e+00,  2.16813287e+00,  1.46642837e+00,  5.05034931e-03,\n",
       "        3.82232484e+00,  2.81067271e+00,  2.41080586e+00,  1.95469063e+00,\n",
       "        2.13947276e+00,  2.02080217e+00,  1.14752493e+00,  2.59324055e+00,\n",
       "        2.19193920e+00,  3.59765523e+00,  1.58367968e+00,  1.76081833e+00,\n",
       "        1.86108197e+00,  3.32652901e+00,  1.98063270e+00,  1.11518107e+00,\n",
       "        1.49551121e+00,  3.52185706e-01,  5.93918186e-01,  2.53355096e+00,\n",
       "        7.22906705e-01, -6.20926695e-01,  1.25465194e+00,  2.93192686e+00,\n",
       "        2.54881717e+00,  3.08171516e+00,  1.35511316e+00,  1.81361990e-01,\n",
       "        3.79370654e+00,  2.44059348e+00,  1.90533948e+00,  2.65805291e+00,\n",
       "        2.41822578e+00,  1.61133971e+00,  1.16100134e+00,  1.18311766e+00])"
      ]
     },
     "execution_count": 8,
     "metadata": {},
     "output_type": "execute_result"
    }
   ],
   "source": [
    "xa = np.random.normal(2, 1, 100)\n",
    "xb = np.random.normal(3, 1, 100)\n",
    "xc = xa + xb\n",
    "df = pd.DataFrame({\n",
    "    'xa': xa,\n",
    "    'xb': xb,\n",
    "    'xc': xc,\n",
    "})\n",
    "\n",
    "xa\n"
   ]
  },
  {
   "cell_type": "code",
   "execution_count": 10,
   "id": "16528dc0",
   "metadata": {},
   "outputs": [
    {
     "data": {
      "text/plain": [
       "array([3., 2., 2., 2., 2., 3., 3., 3., 1., 4., 4., 4., 3., 3., 2., 4., 2.,\n",
       "       4., 2., 3., 3., 2., 4., 3., 2., 5., 2., 5., 3., 2., 4., 1., 3., 3.,\n",
       "       2., 3., 4., 2., 3., 3., 3., 1., 1., 5., 3., 3., 2., 2., 2., 2., 2.,\n",
       "       2., 2., 2., 4., 2., 2., 5., 4., 2., 3., 4., 3., 2., 4., 2., 4., 3.,\n",
       "       2., 3., 3., 3., 2., 3., 3., 3., 3., 4., 2., 2., 3., 3., 1., 2., 1.,\n",
       "       0., 2., 3., 4., 2., 3., 2., 4., 3., 3., 4., 4., 2., 3., 2.])"
      ]
     },
     "execution_count": 10,
     "metadata": {},
     "output_type": "execute_result"
    }
   ],
   "source": [
    "X = np.stack([xa, xb, xc], axis=1)\n",
    "y = (xa + xb + xc) // 3\n",
    "X_train, X_valid, y_train, y_valid \\\n",
    "    = train_test_split(X, y)\n",
    "y"
   ]
  },
  {
   "cell_type": "code",
   "execution_count": null,
   "id": "cccfe9eb",
   "metadata": {},
   "outputs": [],
   "source": [
    "model = LinearRegression(\n",
    "    fit_intercept=True)\n",
    "model = GaussianNB()\n",
    "model = make_pipeline(\n",
    "    StandardScaler(),\n",
    "    PCA(2),\n",
    "    KNeighborsClassifier(5)\n",
    ")\n",
    "model = DecisionTreeClassifier(max_depth=4)\n",
    "model = RandomForestClassifier(n_estimators=20,\n",
    "        max_depth=3, min_samples_leaf=10)\n",
    "model = MLPClassifier(hidden_layer_sizes=(4, 3))\n",
    "\n",
    "model.fit(X_train, y_train)\n",
    "print(model.predict(X_valid))\n",
    "print(model.score(X_valid, y_valid))\n",
    "\n",
    "model = KMeans(n_clusters=5)\n",
    "y = model.fit_predict(X)\n",
    "print(model.predict(X))\n",
    "\n",
    "\n",
    "model = KNeighborsRegressor(5)\n",
    "model = RandomForestRegressor(100, max_depth=5)\n",
    "model = MLPRegressor(hidden_layer_sizes=(8, 6),\n",
    "    activation='logistic')\n",
    "                     \n",
    "model.fit(X_train, y_train)\n",
    "print(model.score(X_valid, y_valid))\n",
    "\n"
   ]
  },
  {
   "cell_type": "code",
   "execution_count": 11,
   "id": "68270b60",
   "metadata": {},
   "outputs": [
    {
     "name": "stderr",
     "output_type": "stream",
     "text": [
      "                                                                                \r"
     ]
    },
    {
     "name": "stdout",
     "output_type": "stream",
     "text": [
      "+---+------------------+-----------------+\n",
      "|  r|           avg(xa)|          max(xb)|\n",
      "+---+------------------+-----------------+\n",
      "|1.0| 1.076238119029719| 4.95924855987185|\n",
      "|4.0|3.8547895439720525|4.468617718841048|\n",
      "|5.0| 5.081303045336318| 3.32705771379321|\n",
      "|2.0| 2.011306865482866|5.009508849978685|\n",
      "|3.0|2.8593896032407256|5.013441339104866|\n",
      "+---+------------------+-----------------+\n",
      "\n"
     ]
    }
   ],
   "source": [
    "spark = SparkSession.builder \\\n",
    "    .getOrCreate()\n",
    "\n",
    "d0 = spark.createDataFrame(df).repartition(100)\n",
    "d1 = d0.select(\n",
    "    d0['xa'], d0['xb'],\n",
    "    functions.round(d0['xa'],0).alias('r'),\n",
    ")\n",
    "grouped = d1.groupby('r').agg(\n",
    "    functions.avg('xa'), functions.max('xb')\n",
    ")\n",
    "grouped = grouped.filter(grouped['r'] > 0)\n",
    "grouped.show()"
   ]
  },
  {
   "cell_type": "code",
   "execution_count": 18,
   "id": "d4a61cf5",
   "metadata": {},
   "outputs": [
    {
     "name": "stdout",
     "output_type": "stream",
     "text": [
      "+--------------------+------------------+----+\n",
      "|                  xa|                xb|   r|\n",
      "+--------------------+------------------+----+\n",
      "| -0.5746843491548566| 4.004009292336165|-1.0|\n",
      "|-0.01950027798651366| 1.970549633783163| 0.0|\n",
      "| -0.6209266952888828|1.8897834297636644|-1.0|\n",
      "+--------------------+------------------+----+\n",
      "\n"
     ]
    }
   ],
   "source": [
    "d2 = d1\n",
    "d2=d2.filter(d2['xa']<0)\n",
    "d2.show()\n"
   ]
  },
  {
   "cell_type": "code",
   "execution_count": null,
   "id": "515535b7",
   "metadata": {},
   "outputs": [],
   "source": []
  }
 ],
 "metadata": {
  "kernelspec": {
   "display_name": "Python 3 (ipykernel)",
   "language": "python",
   "name": "python3"
  },
  "language_info": {
   "codemirror_mode": {
    "name": "ipython",
    "version": 3
   },
   "file_extension": ".py",
   "mimetype": "text/x-python",
   "name": "python",
   "nbconvert_exporter": "python",
   "pygments_lexer": "ipython3",
   "version": "3.9.12"
  }
 },
 "nbformat": 4,
 "nbformat_minor": 5
}
