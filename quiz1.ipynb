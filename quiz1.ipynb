{
 "cells": [
  {
   "cell_type": "code",
   "execution_count": 1,
   "id": "cb1bb2e9",
   "metadata": {},
   "outputs": [],
   "source": [
    "import numpy as np\n",
    "import pandas as pd\n",
    "import matplotlib.pyplot as plt\n",
    "from scipy import stats\n",
    "from statsmodels.stats import multicomp"
   ]
  },
  {
   "cell_type": "code",
   "execution_count": 9,
   "id": "da8645bc",
   "metadata": {},
   "outputs": [
    {
     "data": {
      "text/plain": [
       "array(['X', 'Y', 'Y', 'Y', 'X', 'X', 'Y', 'X', 'Y', 'X', 'X', 'Y', 'X',\n",
       "       'Y', 'X', 'Y', 'Y', 'Y', 'Y', 'Y', 'Y', 'X', 'Y', 'Y', 'Y', 'X',\n",
       "       'Y', 'Y', 'X', 'Y', 'X', 'X', 'X', 'Y', 'X', 'Y', 'X', 'Y', 'Y',\n",
       "       'X', 'X', 'X', 'Y', 'X', 'X', 'X', 'Y', 'Y', 'X', 'X', 'Y', 'X',\n",
       "       'X', 'X', 'X', 'X', 'X', 'Y', 'Y', 'X', 'Y', 'X', 'Y', 'Y', 'Y',\n",
       "       'Y', 'X', 'Y', 'X', 'Y', 'X', 'Y', 'Y', 'Y', 'Y', 'X', 'X', 'X',\n",
       "       'Y', 'X', 'Y', 'X', 'X', 'Y', 'Y', 'X', 'Y', 'X', 'X', 'X', 'Y',\n",
       "       'Y', 'X', 'Y', 'X', 'X', 'Y', 'Y', 'Y', 'Y'], dtype='<U1')"
      ]
     },
     "execution_count": 9,
     "metadata": {},
     "output_type": "execute_result"
    }
   ],
   "source": [
    "labels = np.random.choice(['A', 'B'], 100)\n",
    "types = np.random.choice(['X', 'Y'], 100)\n",
    "types"
   ]
  },
  {
   "cell_type": "code",
   "execution_count": 12,
   "id": "321874a6",
   "metadata": {},
   "outputs": [
    {
     "data": {
      "text/plain": [
       "array([6.1525883 , 6.27477525, 6.85566214, 5.4304898 , 2.5660382 ,\n",
       "       4.64570616, 4.93471864, 5.83772585, 7.34878728, 3.97075073,\n",
       "       6.76217162, 3.12717795, 5.56067394, 6.30263946, 4.00037669,\n",
       "       6.99112122, 4.61569984, 3.76117628, 4.65404759, 4.01296768,\n",
       "       5.81763609, 7.15543791, 3.90471287, 6.31170095, 7.12580371,\n",
       "       8.63255499, 3.45525651, 5.86735347, 3.07973218, 3.61623435,\n",
       "       2.9491975 , 5.81863917, 6.30872027, 8.17297064, 4.65790867,\n",
       "       3.74768256, 3.39053534, 5.6321279 , 7.70805032, 4.57241052,\n",
       "       5.73259938, 4.61602342, 3.8633846 , 6.20719498, 6.9789154 ,\n",
       "       5.13051119, 7.11649726, 5.18388657, 4.62658354, 5.55965152,\n",
       "       2.85728238, 5.11877814, 3.42383056, 5.6072425 , 5.71341181,\n",
       "       3.63362279, 4.0230614 , 5.50461721, 4.78773745, 5.64905587,\n",
       "       5.65176864, 5.29953371, 4.91423706, 4.81631293, 6.55228521,\n",
       "       3.60730976, 5.15728196, 5.7107343 , 5.65996442, 4.20277319,\n",
       "       6.76563301, 4.58087887, 3.32387784, 4.4965304 , 3.67627148,\n",
       "       6.4567334 , 5.54971821, 4.6542481 , 5.26913089, 5.87944676,\n",
       "       4.1136483 , 3.87666328, 6.63908365, 4.32551345, 4.54699199,\n",
       "       5.0165586 , 5.5179564 , 6.54360275, 3.65386338, 5.6155863 ,\n",
       "       1.90348014, 5.34716033, 6.63241497, 2.46106838, 5.44952684,\n",
       "       6.16955097, 5.14591132, 5.68157989, 4.32116095, 4.38283179])"
      ]
     },
     "execution_count": 12,
     "metadata": {},
     "output_type": "execute_result"
    }
   ],
   "source": [
    "xa = np.random.normal(2, 1, 100)\n",
    "xb = np.random.normal(3, 1, 100)\n",
    "xc = xa + xb\n",
    "xc"
   ]
  },
  {
   "cell_type": "code",
   "execution_count": 18,
   "id": "13bb5d3b",
   "metadata": {},
   "outputs": [
    {
     "name": "stdout",
     "output_type": "stream",
     "text": [
      "   label type        xa        xb        xc  intercept\n",
      "0      A    X  3.646120  2.506468  6.152588          1\n",
      "1      A    Y  1.715160  4.559615  6.274775          1\n",
      "2      B    Y  2.427887  4.427775  6.855662          1\n",
      "3      A    Y  2.090512  3.339978  5.430490          1\n",
      "4      A    X -0.370941  2.936979  2.566038          1\n",
      "..   ...  ...       ...       ...       ...        ...\n",
      "95     A    X  1.814301  4.355250  6.169551          1\n",
      "96     B    Y  2.660192  2.485719  5.145911          1\n",
      "97     A    Y  2.748130  2.933450  5.681580          1\n",
      "98     B    Y  2.493891  1.827270  4.321161          1\n",
      "99     B    Y  1.697849  2.684982  4.382832          1\n",
      "\n",
      "[100 rows x 6 columns]\n",
      "    variable     value\n",
      "0         xa  3.646120\n",
      "1         xa  1.715160\n",
      "2         xa  2.427887\n",
      "3         xa  2.090512\n",
      "4         xa -0.370941\n",
      "..       ...       ...\n",
      "295       xc  6.169551\n",
      "296       xc  5.145911\n",
      "297       xc  5.681580\n",
      "298       xc  4.321161\n",
      "299       xc  4.382832\n",
      "\n",
      "[300 rows x 2 columns]\n",
      "label             A         B\n",
      "xa                           \n",
      "-0.775372  3.855104       NaN\n",
      "-0.606804  3.556001       NaN\n",
      "-0.370941  2.936979       NaN\n",
      " 0.152488  2.974690       NaN\n",
      " 0.254507  3.200750       NaN\n",
      "...             ...       ...\n",
      " 3.821036  4.811519       NaN\n",
      " 3.989397       NaN  1.310137\n",
      " 4.135387  3.213400       NaN\n",
      " 4.248929  2.729986       NaN\n",
      " 4.704924  3.468047       NaN\n",
      "\n",
      "[100 rows x 2 columns]\n"
     ]
    },
    {
     "data": {
      "text/html": [
       "<div>\n",
       "<style scoped>\n",
       "    .dataframe tbody tr th:only-of-type {\n",
       "        vertical-align: middle;\n",
       "    }\n",
       "\n",
       "    .dataframe tbody tr th {\n",
       "        vertical-align: top;\n",
       "    }\n",
       "\n",
       "    .dataframe thead th {\n",
       "        text-align: right;\n",
       "    }\n",
       "</style>\n",
       "<table border=\"1\" class=\"dataframe\">\n",
       "  <thead>\n",
       "    <tr style=\"text-align: right;\">\n",
       "      <th>label</th>\n",
       "      <th>A</th>\n",
       "      <th>B</th>\n",
       "    </tr>\n",
       "    <tr>\n",
       "      <th>xa</th>\n",
       "      <th></th>\n",
       "      <th></th>\n",
       "    </tr>\n",
       "  </thead>\n",
       "  <tbody>\n",
       "    <tr>\n",
       "      <th>-0.775372</th>\n",
       "      <td>3.855104</td>\n",
       "      <td>NaN</td>\n",
       "    </tr>\n",
       "    <tr>\n",
       "      <th>-0.606804</th>\n",
       "      <td>3.556001</td>\n",
       "      <td>NaN</td>\n",
       "    </tr>\n",
       "    <tr>\n",
       "      <th>-0.370941</th>\n",
       "      <td>2.936979</td>\n",
       "      <td>NaN</td>\n",
       "    </tr>\n",
       "    <tr>\n",
       "      <th>0.152488</th>\n",
       "      <td>2.974690</td>\n",
       "      <td>NaN</td>\n",
       "    </tr>\n",
       "    <tr>\n",
       "      <th>0.254507</th>\n",
       "      <td>3.200750</td>\n",
       "      <td>NaN</td>\n",
       "    </tr>\n",
       "    <tr>\n",
       "      <th>...</th>\n",
       "      <td>...</td>\n",
       "      <td>...</td>\n",
       "    </tr>\n",
       "    <tr>\n",
       "      <th>3.821036</th>\n",
       "      <td>4.811519</td>\n",
       "      <td>NaN</td>\n",
       "    </tr>\n",
       "    <tr>\n",
       "      <th>3.989397</th>\n",
       "      <td>NaN</td>\n",
       "      <td>1.310137</td>\n",
       "    </tr>\n",
       "    <tr>\n",
       "      <th>4.135387</th>\n",
       "      <td>3.213400</td>\n",
       "      <td>NaN</td>\n",
       "    </tr>\n",
       "    <tr>\n",
       "      <th>4.248929</th>\n",
       "      <td>2.729986</td>\n",
       "      <td>NaN</td>\n",
       "    </tr>\n",
       "    <tr>\n",
       "      <th>4.704924</th>\n",
       "      <td>3.468047</td>\n",
       "      <td>NaN</td>\n",
       "    </tr>\n",
       "  </tbody>\n",
       "</table>\n",
       "<p>100 rows × 2 columns</p>\n",
       "</div>"
      ],
      "text/plain": [
       "label             A         B\n",
       "xa                           \n",
       "-0.775372  3.855104       NaN\n",
       "-0.606804  3.556001       NaN\n",
       "-0.370941  2.936979       NaN\n",
       " 0.152488  2.974690       NaN\n",
       " 0.254507  3.200750       NaN\n",
       "...             ...       ...\n",
       " 3.821036  4.811519       NaN\n",
       " 3.989397       NaN  1.310137\n",
       " 4.135387  3.213400       NaN\n",
       " 4.248929  2.729986       NaN\n",
       " 4.704924  3.468047       NaN\n",
       "\n",
       "[100 rows x 2 columns]"
      ]
     },
     "execution_count": 18,
     "metadata": {},
     "output_type": "execute_result"
    }
   ],
   "source": [
    "df = pd.DataFrame({\n",
    "    'label': labels,\n",
    "    'type': types,\n",
    "    'xa': xa,\n",
    "    'xb': xb,\n",
    "    'xc': xc,\n",
    "    'intercept': 1\n",
    "})\n",
    "df_melt = pd.melt(df[['xa', 'xb', 'xc']])\n",
    "by_label = df.pivot('xa', 'label', 'xb')\n",
    "print(df)\n",
    "print(df_melt)\n",
    "print(by_label)\n",
    "by_label"
   ]
  },
  {
   "cell_type": "code",
   "execution_count": 5,
   "id": "5b4fbc9c",
   "metadata": {},
   "outputs": [
    {
     "name": "stdout",
     "output_type": "stream",
     "text": [
      "7.97633800802827e-13\n",
      "0.09793820967349494\n",
      "0.07918513805472271\n",
      "1.9820864679075237e-12\n",
      "1.2564080898453348e-48\n",
      "Multiple Comparison of Means - Tukey HSD, FWER=0.05\n",
      "=================================================\n",
      "group1 group2 meandiff p-adj lower  upper  reject\n",
      "-------------------------------------------------\n",
      "    xa     xb    1.165   0.0 0.7724 1.5575   True\n",
      "    xa     xc   2.9901  -0.0 2.5976 3.3826   True\n",
      "    xb     xc   1.8251  -0.0 1.4326 2.2177   True\n",
      "-------------------------------------------------\n"
     ]
    }
   ],
   "source": [
    "print(stats.ttest_ind(xa, xb).pvalue)\n",
    "print(stats.normaltest(xa).pvalue)\n",
    "print(stats.levene(xa, xb).pvalue)\n",
    "print(stats.mannwhitneyu(xa, xb).pvalue)\n",
    "print(stats.f_oneway(xa, xb, xc).pvalue)\n",
    "tukey = multicomp.pairwise_tukeyhsd(\n",
    "    df_melt['value'], df_melt['variable'],\n",
    "    alpha=0.05\n",
    ")\n",
    "print(tukey)"
   ]
  },
  {
   "cell_type": "code",
   "execution_count": 20,
   "id": "80189d16",
   "metadata": {},
   "outputs": [
    {
     "name": "stdout",
     "output_type": "stream",
     "text": [
      "col_0   X   Y\n",
      "row_0        \n",
      "A      28  26\n",
      "B      20  26\n",
      "0.5257284742523927\n"
     ]
    }
   ],
   "source": [
    "contingency = pd.crosstab(labels, types)\n",
    "c,p,d,e = stats.chi2_contingency(contingency)\n",
    "print(contingency)\n",
    "print(p)"
   ]
  },
  {
   "cell_type": "code",
   "execution_count": 7,
   "id": "1c355b4b",
   "metadata": {},
   "outputs": [
    {
     "name": "stdout",
     "output_type": "stream",
     "text": [
      "0.3634918511121282 0.0748430768816275\n",
      "2.7691692843351466e-08 0.5208663214554708\n"
     ]
    }
   ],
   "source": [
    "reg = stats.linregress(xc, xa)\n",
    "print(reg.slope, reg.intercept)\n",
    "print(reg.pvalue, reg.rvalue)"
   ]
  },
  {
   "cell_type": "code",
   "execution_count": null,
   "id": "f85d5671",
   "metadata": {},
   "outputs": [],
   "source": []
  }
 ],
 "metadata": {
  "kernelspec": {
   "display_name": "Python 3 (ipykernel)",
   "language": "python",
   "name": "python3"
  },
  "language_info": {
   "codemirror_mode": {
    "name": "ipython",
    "version": 3
   },
   "file_extension": ".py",
   "mimetype": "text/x-python",
   "name": "python",
   "nbconvert_exporter": "python",
   "pygments_lexer": "ipython3",
   "version": "3.9.12"
  }
 },
 "nbformat": 4,
 "nbformat_minor": 5
}
