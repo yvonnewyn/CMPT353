{
 "cells": [
  {
   "cell_type": "code",
   "execution_count": 23,
   "id": "8773fd08",
   "metadata": {},
   "outputs": [],
   "source": [
    "import numpy as np\n",
    "import pandas as pd\n",
    "from scipy import stats"
   ]
  },
  {
   "cell_type": "code",
   "execution_count": 28,
   "id": "62a67d26",
   "metadata": {},
   "outputs": [],
   "source": [
    "data1 = pd.read_csv('data-1.csv')\n",
    "data2 = pd.read_csv('data-2.csv')\n",
    "data3 = pd.read_csv('data-3.csv')\n",
    "data4 = pd.read_csv('data-4.csv')\n",
    "data5 = pd.read_csv('data-5.csv')\n",
    "data6 = pd.read_csv('data-6.csv')"
   ]
  },
  {
   "cell_type": "code",
   "execution_count": 26,
   "id": "89696661",
   "metadata": {},
   "outputs": [
    {
     "name": "stdout",
     "output_type": "stream",
     "text": [
      "                x           y\n",
      "count  100.000000  100.000000\n",
      "mean     8.717696   12.522874\n",
      "std     12.155517    6.639964\n",
      "min    -22.635878   -2.565088\n",
      "25%      0.273720    8.700088\n",
      "50%      9.129153   13.058321\n",
      "75%     16.844928   16.866256\n",
      "max     35.237055   27.384153\n",
      "\n",
      "\n",
      "0.9503256954375483\n"
     ]
    }
   ],
   "source": [
    "print(data1.describe())\n",
    "print('\\n')\n",
    "print(stats.linregress(data1['x'], data1['y']).rvalue)"
   ]
  },
  {
   "cell_type": "code",
   "execution_count": 29,
   "id": "1a605349",
   "metadata": {},
   "outputs": [
    {
     "name": "stdout",
     "output_type": "stream",
     "text": [
      "                x           y\n",
      "count  100.000000  100.000000\n",
      "mean    -0.710787   -0.748987\n",
      "std     11.481584    6.257918\n",
      "min    -33.271113  -18.621804\n",
      "25%     -7.158775   -4.226143\n",
      "50%     -0.904306   -0.363660\n",
      "75%      6.463880    3.239783\n",
      "max     27.647000   14.147315\n",
      "\n",
      "\n",
      "0.9551531665750373\n"
     ]
    }
   ],
   "source": [
    "print(data2.describe())\n",
    "print('\\n')\n",
    "print(stats.linregress(data2['x'], data2['y']).rvalue)"
   ]
  },
  {
   "cell_type": "code",
   "execution_count": 30,
   "id": "83a8dad1",
   "metadata": {},
   "outputs": [
    {
     "name": "stdout",
     "output_type": "stream",
     "text": [
      "                x           y\n",
      "count  300.000000  300.000000\n",
      "mean     0.968907    8.508535\n",
      "std      2.235558    1.149301\n",
      "min     -2.449064    6.641734\n",
      "25%     -0.786092    7.462954\n",
      "50%      0.936631    8.484485\n",
      "75%      2.672549    9.538208\n",
      "max      4.518885   10.551871\n",
      "\n",
      "\n",
      "0.9819372646760661\n"
     ]
    }
   ],
   "source": [
    "print(data3.describe())\n",
    "print('\\n')\n",
    "print(stats.linregress(data3['x'], data3['y']).rvalue)"
   ]
  },
  {
   "cell_type": "code",
   "execution_count": 31,
   "id": "917bf828",
   "metadata": {},
   "outputs": [
    {
     "name": "stdout",
     "output_type": "stream",
     "text": [
      "                x           y\n",
      "count  118.000000  118.000000\n",
      "mean    49.905086   18.553837\n",
      "std     28.508611   16.545896\n",
      "min      0.000000    0.000000\n",
      "25%     31.851625    4.635509\n",
      "50%     55.178870   13.459013\n",
      "75%     73.584013   35.114157\n",
      "max     87.376700   44.565040\n",
      "\n",
      "\n",
      "-0.08119306735490815\n"
     ]
    }
   ],
   "source": [
    "print(data4.describe())\n",
    "print('\\n')\n",
    "print(stats.linregress(data4['x'], data4['y']).rvalue)"
   ]
  },
  {
   "cell_type": "code",
   "execution_count": 32,
   "id": "767217ba",
   "metadata": {},
   "outputs": [
    {
     "name": "stdout",
     "output_type": "stream",
     "text": [
      "                x           y\n",
      "count  118.000000  118.000000\n",
      "mean    49.909994   18.555525\n",
      "std     28.500001   16.540796\n",
      "min      4.337892    0.055498\n",
      "25%     27.822473    3.246504\n",
      "50%     48.002340   15.453975\n",
      "75%     68.051795   34.926532\n",
      "max     91.052863   49.934197\n",
      "\n",
      "\n",
      "-0.08823598983058886\n"
     ]
    }
   ],
   "source": [
    "print(data5.describe())\n",
    "print('\\n')\n",
    "print(stats.linregress(data5['x'], data5['y']).rvalue)"
   ]
  },
  {
   "cell_type": "code",
   "execution_count": 33,
   "id": "0d0e90b5",
   "metadata": {},
   "outputs": [
    {
     "name": "stdout",
     "output_type": "stream",
     "text": [
      "                x           y\n",
      "count  100.000000  100.000000\n",
      "mean     7.216155    7.602215\n",
      "std     11.921599   11.764382\n",
      "min    -24.333821  -22.956357\n",
      "25%     -1.666417   -1.395762\n",
      "50%      8.026907    8.475399\n",
      "75%     15.992990   16.288893\n",
      "max     35.402139   36.079874\n",
      "\n",
      "\n",
      "0.9350685662094905\n"
     ]
    }
   ],
   "source": [
    "print(data6.describe())\n",
    "print('\\n')\n",
    "print(stats.linregress(data6['x'], data6['y']).rvalue)"
   ]
  },
  {
   "cell_type": "code",
   "execution_count": null,
   "id": "0dd43538",
   "metadata": {},
   "outputs": [],
   "source": []
  }
 ],
 "metadata": {
  "kernelspec": {
   "display_name": "Python 3 (ipykernel)",
   "language": "python",
   "name": "python3"
  },
  "language_info": {
   "codemirror_mode": {
    "name": "ipython",
    "version": 3
   },
   "file_extension": ".py",
   "mimetype": "text/x-python",
   "name": "python",
   "nbconvert_exporter": "python",
   "pygments_lexer": "ipython3",
   "version": "3.9.12"
  }
 },
 "nbformat": 4,
 "nbformat_minor": 5
}
