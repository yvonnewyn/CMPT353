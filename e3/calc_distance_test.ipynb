{
 "cells": [
  {
   "cell_type": "code",
   "execution_count": 3,
   "id": "4a35cf61",
   "metadata": {},
   "outputs": [],
   "source": [
    "import sys\n",
    "import xml.etree.ElementTree as ET\n",
    "import pandas as pd\n",
    "from math import cos, asin, sqrt\n",
    "from pykalman import KalmanFilter\n",
    "import numpy as np\n",
    "\n",
    "def get_data(input_filename):\n",
    "    #input an XML/gpx file\n",
    "    #return a DF\n",
    "    #check testParse.py to understand how this function works\n",
    "    df = pd.DataFrame(columns=['lat', 'lon'])\n",
    "    tree = ET.parse(input_filename)\n",
    "    root = tree.getroot()\n",
    "    i = 0\n",
    "    for child in root[1][0]:\n",
    "        df.loc[i] = [float(child.attrib['lat']), float(child.attrib['lon'])]\n",
    "        i += 1\n",
    "    return df\n",
    "\n",
    "def distance(points):\n",
    "    #return the distance in meters\n",
    "    points_shifted = points.shift(periods=-1)\n",
    "    points_diff = abs(points - points_shifted)\n",
    "    total_diff = points_diff.sum()\n",
    "    return distanceOf2Points(points['lat'][0], points['lon'][0], points['lat'][0] + total_diff['lat'], points['lon'][0] + total_diff['lon'])\n",
    "\n",
    "def distanceOf2Points(lat1, lon1, lat2, lon2):\n",
    "    p = 0.017453292519943295     #Pi/180\n",
    "    a = 0.5 - cos((lat2 - lat1) * p)/2 + cos(lat1 * p) * cos(lat2 * p) * (1 - cos((lon2 - lon1) * p)) / 2\n",
    "    return 12742 * asin(sqrt(a)) #2*R*asin...  distance in KM\n",
    "\n",
    "def smooth(points):\n",
    "    kf = KalmanFilter(\n",
    "        initial_state_mean = points.iloc[0],\n",
    "        observation_covariance = np.diag([0.5, 0.5]) ** 2, # TODO: shouldn't be zero\n",
    "        transition_covariance = np.diag([0.3, 0.3]) ** 2, # TODO: shouldn't be zero\n",
    "        transition_matrices = [[1, 0], [0, 1]] # TODO\n",
    "    )\n",
    "    kalman_smoothed, _ = kf.smooth(points)\n",
    "    df = pd.DataFrame(data=kalman_smoothed, columns=['lat', 'lon'])\n",
    "    return df\n",
    "\n",
    "\n",
    "def output_gpx(points, output_filename):\n",
    "    \"\"\"\n",
    "    Output a GPX file with latitude and longitude from the points DataFrame.\n",
    "    \"\"\"\n",
    "    from xml.dom.minidom import getDOMImplementation\n",
    "    def append_trkpt(pt, trkseg, doc):\n",
    "        trkpt = doc.createElement('trkpt')\n",
    "        trkpt.setAttribute('lat', '%.8f' % (pt['lat']))\n",
    "        trkpt.setAttribute('lon', '%.8f' % (pt['lon']))\n",
    "        trkseg.appendChild(trkpt)\n",
    "    \n",
    "    doc = getDOMImplementation().createDocument(None, 'gpx', None)\n",
    "    trk = doc.createElement('trk')\n",
    "    doc.documentElement.appendChild(trk)\n",
    "    trkseg = doc.createElement('trkseg')\n",
    "    trk.appendChild(trkseg)\n",
    "    \n",
    "    points.apply(append_trkpt, axis=1, trkseg=trkseg, doc=doc)\n",
    "    \n",
    "    with open(output_filename, 'w') as fh:\n",
    "        doc.writexml(fh, indent=' ')\n",
    "\n",
    "\n",
    "\n",
    "    \n",
    "   \n"
   ]
  },
  {
   "cell_type": "code",
   "execution_count": 5,
   "id": "41327c9a",
   "metadata": {},
   "outputs": [
    {
     "ename": "IndexError",
     "evalue": "child index out of range",
     "output_type": "error",
     "traceback": [
      "\u001b[0;31m---------------------------------------------------------------------------\u001b[0m",
      "\u001b[0;31mIndexError\u001b[0m                                Traceback (most recent call last)",
      "Input \u001b[0;32mIn [5]\u001b[0m, in \u001b[0;36m<cell line: 1>\u001b[0;34m()\u001b[0m\n\u001b[0;32m----> 1\u001b[0m points \u001b[38;5;241m=\u001b[39m \u001b[43mget_data\u001b[49m\u001b[43m(\u001b[49m\u001b[38;5;124;43m'\u001b[39;49m\u001b[38;5;124;43mwalk1.gpx\u001b[39;49m\u001b[38;5;124;43m'\u001b[39;49m\u001b[43m)\u001b[49m\n\u001b[1;32m      2\u001b[0m \u001b[38;5;28mprint\u001b[39m(\u001b[38;5;124m'\u001b[39m\u001b[38;5;124mUnfiltered distance: \u001b[39m\u001b[38;5;132;01m%0.2f\u001b[39;00m\u001b[38;5;124m'\u001b[39m \u001b[38;5;241m%\u001b[39m (distance(points),))\n\u001b[1;32m      4\u001b[0m smoothed_points \u001b[38;5;241m=\u001b[39m smooth(points)\n",
      "Input \u001b[0;32mIn [3]\u001b[0m, in \u001b[0;36mget_data\u001b[0;34m(input_filename)\u001b[0m\n\u001b[1;32m     14\u001b[0m root \u001b[38;5;241m=\u001b[39m tree\u001b[38;5;241m.\u001b[39mgetroot()\n\u001b[1;32m     15\u001b[0m i \u001b[38;5;241m=\u001b[39m \u001b[38;5;241m0\u001b[39m\n\u001b[0;32m---> 16\u001b[0m \u001b[38;5;28;01mfor\u001b[39;00m child \u001b[38;5;129;01min\u001b[39;00m \u001b[43mroot\u001b[49m\u001b[43m[\u001b[49m\u001b[38;5;241;43m1\u001b[39;49m\u001b[43m]\u001b[49m[\u001b[38;5;241m0\u001b[39m]:\n\u001b[1;32m     17\u001b[0m     df\u001b[38;5;241m.\u001b[39mloc[i] \u001b[38;5;241m=\u001b[39m [\u001b[38;5;28mfloat\u001b[39m(child\u001b[38;5;241m.\u001b[39mattrib[\u001b[38;5;124m'\u001b[39m\u001b[38;5;124mlat\u001b[39m\u001b[38;5;124m'\u001b[39m]), \u001b[38;5;28mfloat\u001b[39m(child\u001b[38;5;241m.\u001b[39mattrib[\u001b[38;5;124m'\u001b[39m\u001b[38;5;124mlon\u001b[39m\u001b[38;5;124m'\u001b[39m])]\n\u001b[1;32m     18\u001b[0m     i \u001b[38;5;241m+\u001b[39m\u001b[38;5;241m=\u001b[39m \u001b[38;5;241m1\u001b[39m\n",
      "\u001b[0;31mIndexError\u001b[0m: child index out of range"
     ]
    }
   ],
   "source": [
    "points = get_data('walk1.gpx')\n",
    "print('Unfiltered distance: %0.2f' % (distance(points),))\n",
    "\n",
    "smoothed_points = smooth(points)\n",
    "print('Filtered distance: %0.2f' % (distance(smoothed_points),))\n",
    "output_gpx(smoothed_points, 'out.gpx')"
   ]
  },
  {
   "cell_type": "code",
   "execution_count": null,
   "id": "d0a52fd4",
   "metadata": {},
   "outputs": [],
   "source": []
  }
 ],
 "metadata": {
  "kernelspec": {
   "display_name": "Python 3 (ipykernel)",
   "language": "python",
   "name": "python3"
  },
  "language_info": {
   "codemirror_mode": {
    "name": "ipython",
    "version": 3
   },
   "file_extension": ".py",
   "mimetype": "text/x-python",
   "name": "python",
   "nbconvert_exporter": "python",
   "pygments_lexer": "ipython3",
   "version": "3.9.12"
  }
 },
 "nbformat": 4,
 "nbformat_minor": 5
}
