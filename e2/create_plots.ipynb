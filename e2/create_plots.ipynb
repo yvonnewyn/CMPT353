{
 "cells": [
  {
   "cell_type": "code",
   "execution_count": 1,
   "id": "0a9b6bda",
   "metadata": {},
   "outputs": [],
   "source": [
    "import numpy as np\n",
    "import pandas as pd\n",
    "import matplotlib.pyplot as plt"
   ]
  },
  {
   "cell_type": "code",
   "execution_count": 2,
   "id": "6ba17da9",
   "metadata": {},
   "outputs": [],
   "source": [
    "file1 = pd.read_csv(\"pagecounts-20190509-120000.txt\", sep=' ', header=None, index_col=1,\n",
    "        names=['lang', 'page', 'views', 'bytes'])\n",
    "file2 = pd.read_csv(\"pagecounts-20190509-130000.txt\", sep=' ', header=None, index_col=1,\n",
    "        names=['lang', 'page', 'views', 'bytes'])"
   ]
  },
  {
   "cell_type": "code",
   "execution_count": 11,
   "id": "91b739b2",
   "metadata": {},
   "outputs": [
    {
     "data": {
      "text/html": [
       "<div>\n",
       "<style scoped>\n",
       "    .dataframe tbody tr th:only-of-type {\n",
       "        vertical-align: middle;\n",
       "    }\n",
       "\n",
       "    .dataframe tbody tr th {\n",
       "        vertical-align: top;\n",
       "    }\n",
       "\n",
       "    .dataframe thead th {\n",
       "        text-align: right;\n",
       "    }\n",
       "</style>\n",
       "<table border=\"1\" class=\"dataframe\">\n",
       "  <thead>\n",
       "    <tr style=\"text-align: right;\">\n",
       "      <th></th>\n",
       "      <th>lang</th>\n",
       "      <th>views</th>\n",
       "      <th>bytes</th>\n",
       "      <th>views2</th>\n",
       "    </tr>\n",
       "    <tr>\n",
       "      <th>page</th>\n",
       "      <th></th>\n",
       "      <th></th>\n",
       "      <th></th>\n",
       "      <th></th>\n",
       "    </tr>\n",
       "  </thead>\n",
       "  <tbody>\n",
       "    <tr>\n",
       "      <th>Java_(programming_language)</th>\n",
       "      <td>en</td>\n",
       "      <td>151</td>\n",
       "      <td>0</td>\n",
       "      <td>128</td>\n",
       "    </tr>\n",
       "    <tr>\n",
       "      <th>Universally_unique_identifier</th>\n",
       "      <td>en</td>\n",
       "      <td>134</td>\n",
       "      <td>0</td>\n",
       "      <td>108</td>\n",
       "    </tr>\n",
       "    <tr>\n",
       "      <th>Alex_Ferguson</th>\n",
       "      <td>en</td>\n",
       "      <td>74</td>\n",
       "      <td>0</td>\n",
       "      <td>72</td>\n",
       "    </tr>\n",
       "    <tr>\n",
       "      <th>Ostrobothnia_(region)</th>\n",
       "      <td>en</td>\n",
       "      <td>70</td>\n",
       "      <td>0</td>\n",
       "      <td>2</td>\n",
       "    </tr>\n",
       "    <tr>\n",
       "      <th>Citric_acid_cycle</th>\n",
       "      <td>en</td>\n",
       "      <td>69</td>\n",
       "      <td>0</td>\n",
       "      <td>58</td>\n",
       "    </tr>\n",
       "    <tr>\n",
       "      <th>...</th>\n",
       "      <td>...</td>\n",
       "      <td>...</td>\n",
       "      <td>...</td>\n",
       "      <td>...</td>\n",
       "    </tr>\n",
       "    <tr>\n",
       "      <th>The_Woodland_Folk</th>\n",
       "      <td>en</td>\n",
       "      <td>1</td>\n",
       "      <td>0</td>\n",
       "      <td>2</td>\n",
       "    </tr>\n",
       "    <tr>\n",
       "      <th>The_Wrigley_Sisters</th>\n",
       "      <td>en</td>\n",
       "      <td>1</td>\n",
       "      <td>0</td>\n",
       "      <td>1</td>\n",
       "    </tr>\n",
       "    <tr>\n",
       "      <th>Software_bus</th>\n",
       "      <td>en</td>\n",
       "      <td>1</td>\n",
       "      <td>0</td>\n",
       "      <td>2</td>\n",
       "    </tr>\n",
       "    <tr>\n",
       "      <th>Thomas_Pelham-Holles,_1st_Duke_of_Newcastle-upon-Tyne</th>\n",
       "      <td>en</td>\n",
       "      <td>1</td>\n",
       "      <td>0</td>\n",
       "      <td>2</td>\n",
       "    </tr>\n",
       "    <tr>\n",
       "      <th>Kunala</th>\n",
       "      <td>en</td>\n",
       "      <td>1</td>\n",
       "      <td>0</td>\n",
       "      <td>1</td>\n",
       "    </tr>\n",
       "  </tbody>\n",
       "</table>\n",
       "<p>1241 rows × 4 columns</p>\n",
       "</div>"
      ],
      "text/plain": [
       "                                                   lang  views  bytes  views2\n",
       "page                                                                         \n",
       "Java_(programming_language)                          en    151      0     128\n",
       "Universally_unique_identifier                        en    134      0     108\n",
       "Alex_Ferguson                                        en     74      0      72\n",
       "Ostrobothnia_(region)                                en     70      0       2\n",
       "Citric_acid_cycle                                    en     69      0      58\n",
       "...                                                 ...    ...    ...     ...\n",
       "The_Woodland_Folk                                    en      1      0       2\n",
       "The_Wrigley_Sisters                                  en      1      0       1\n",
       "Software_bus                                         en      1      0       2\n",
       "Thomas_Pelham-Holles,_1st_Duke_of_Newcastle-upo...   en      1      0       2\n",
       "Kunala                                               en      1      0       1\n",
       "\n",
       "[1241 rows x 4 columns]"
      ]
     },
     "execution_count": 11,
     "metadata": {},
     "output_type": "execute_result"
    }
   ],
   "source": [
    "file1 = file1.sort_values(by=\"views\", ascending=False)\n",
    "file1\n",
    "file2['views2']=file1['views']\n",
    "file2 = file2.sort_values(by='views', ascending=False)\n",
    "file2"
   ]
  },
  {
   "cell_type": "code",
   "execution_count": 21,
   "id": "6c13af00",
   "metadata": {},
   "outputs": [
    {
     "data": {
      "image/png": "[encoded data removed]",
      "text/plain": [
       "<Figure size 720x360 with 2 Axes>"
      ]
     },
     "metadata": {
      "needs_background": "light"
     },
     "output_type": "display_data"
    }
   ],
   "source": [
    "plt.figure(figsize=(10,5))\n",
    "plt.subplot(1, 2, 1)\n",
    "plt.plot(file1['views'].values)\n",
    "plt.title('Popularity Distribution')\n",
    "plt.xlabel('Rank')\n",
    "plt.ylabel('Views')\n",
    "plt.subplot(1, 2, 2)\n",
    "plt.plot(file2['views'].values, file2['views2'].values, 'b.', alpha=0.5)\n",
    "plt.xscale('log')\n",
    "plt.yscale('log')\n",
    "plt.title('Hourly Correlation')\n",
    "plt.xlabel(\"Hour 12 views\")\n",
    "plt.ylabel(\"Hour 13 views\")\n",
    "plt.savefig('wikipedia.png')"
   ]
  },
  {
   "cell_type": "code",
   "execution_count": null,
   "id": "f47606d7",
   "metadata": {},
   "outputs": [],
   "source": []
  },
  {
   "cell_type": "code",
   "execution_count": null,
   "id": "b8fee976",
   "metadata": {},
   "outputs": [],
   "source": []
  },
  {
   "cell_type": "code",
   "execution_count": null,
   "id": "989e15c7",
   "metadata": {},
   "outputs": [],
   "source": []
  }
 ],
 "metadata": {
  "kernelspec": {
   "display_name": "Python 3 (ipykernel)",
   "language": "python",
   "name": "python3"
  },
  "language_info": {
   "codemirror_mode": {
    "name": "ipython",
    "version": 3
   },
   "file_extension": ".py",
   "mimetype": "text/x-python",
   "name": "python",
   "nbconvert_exporter": "python",
   "pygments_lexer": "ipython3",
   "version": "3.9.12"
  }
 },
 "nbformat": 4,
 "nbformat_minor": 5
}
