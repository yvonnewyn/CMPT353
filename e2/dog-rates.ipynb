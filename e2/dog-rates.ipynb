{
 "cells": [
  {
   "cell_type": "code",
   "execution_count": 8,
   "id": "79f81c1e",
   "metadata": {},
   "outputs": [],
   "source": [
    "import numpy as np\n",
    "import pandas as pd\n",
    "import matplotlib.pyplot as plt\n",
    "from scipy import stats\n",
    "\n",
    "\n",
    "def get_rating_from_tweet(rate):\n",
    "    if '/10' in rate:\n",
    "        indx = rate.index('/10')\n",
    "        rating = rate[indx-2:indx]\n",
    "        return rating\n",
    "    else:\n",
    "        return 'n/a'\n",
    "    \n",
    "def to_timestamp(date):\n",
    "    return date.timestamp()"
   ]
  },
  {
   "cell_type": "code",
   "execution_count": 9,
   "id": "b3b1c1e9",
   "metadata": {},
   "outputs": [],
   "source": [
    "tweets = pd.read_csv('dog_rates_tweets.csv', parse_dates=['created_at'])"
   ]
  },
  {
   "cell_type": "code",
   "execution_count": 10,
   "id": "c539e169",
   "metadata": {},
   "outputs": [],
   "source": [
    "rates = tweets[tweets['text'].str.contains('/10')]\n",
    "get_rating = np.vectorize(get_rating_from_tweet)"
   ]
  },
  {
   "cell_type": "code",
   "execution_count": 26,
   "id": "c6bdc108",
   "metadata": {},
   "outputs": [],
   "source": [
    "get_rating = np.vectorize(get_rating_from_tweet)\n",
    "\n",
    "rates2 = rates.copy(deep=True)\n",
    "rates2['rating'] = get_rating(rates2['text'])\n",
    "rates2 = rates2[rates2['rating'].str.isdigit()]\n",
    "rates2 = rates2._convert(numeric=True)\n",
    "rates2['rating'] = rates2['rating'].astype('float')\n",
    "rates2 = rates2[rates2['rating']<=25]\n",
    "rates2 = rates2.reset_index(drop=True)"
   ]
  },
  {
   "cell_type": "code",
   "execution_count": 27,
   "id": "71ad0024",
   "metadata": {},
   "outputs": [
    {
     "data": {
      "image/png": "[encoded data removed]",
      "text/plain": [
       "<Figure size 432x288 with 1 Axes>"
      ]
     },
     "metadata": {
      "needs_background": "light"
     },
     "output_type": "display_data"
    }
   ],
   "source": [
    "plt.xticks(rotation=25)\n",
    "plt.plot(rates2['created_at'], rates2['rating'], 'b.', alpha=0.5)\n",
    "plt.show()"
   ]
  },
  {
   "cell_type": "code",
   "execution_count": 28,
   "id": "34c31ec8",
   "metadata": {},
   "outputs": [
    {
     "data": {
      "text/html": [
       "<div>\n",
       "<style scoped>\n",
       "    .dataframe tbody tr th:only-of-type {\n",
       "        vertical-align: middle;\n",
       "    }\n",
       "\n",
       "    .dataframe tbody tr th {\n",
       "        vertical-align: top;\n",
       "    }\n",
       "\n",
       "    .dataframe thead th {\n",
       "        text-align: right;\n",
       "    }\n",
       "</style>\n",
       "<table border=\"1\" class=\"dataframe\">\n",
       "  <thead>\n",
       "    <tr style=\"text-align: right;\">\n",
       "      <th></th>\n",
       "      <th>id</th>\n",
       "      <th>created_at</th>\n",
       "      <th>text</th>\n",
       "      <th>rating</th>\n",
       "      <th>timestamp</th>\n",
       "      <th>prediction</th>\n",
       "    </tr>\n",
       "  </thead>\n",
       "  <tbody>\n",
       "    <tr>\n",
       "      <th>0</th>\n",
       "      <td>994363623421153280</td>\n",
       "      <td>2018-05-09 23:48:56</td>\n",
       "      <td>This is Louie. He has misplaced his Cheerio. W...</td>\n",
       "      <td>14.0</td>\n",
       "      <td>1.525910e+09</td>\n",
       "      <td>13.103166</td>\n",
       "    </tr>\n",
       "    <tr>\n",
       "      <th>1</th>\n",
       "      <td>993889039714578432</td>\n",
       "      <td>2018-05-08 16:23:07</td>\n",
       "      <td>This is Manny. He hasn’t seen your croissant. ...</td>\n",
       "      <td>13.0</td>\n",
       "      <td>1.525797e+09</td>\n",
       "      <td>13.100102</td>\n",
       "    </tr>\n",
       "    <tr>\n",
       "      <th>2</th>\n",
       "      <td>993629544463642624</td>\n",
       "      <td>2018-05-07 23:11:58</td>\n",
       "      <td>This is Libby. She leap. 14/10\\n(IG: libbythef...</td>\n",
       "      <td>14.0</td>\n",
       "      <td>1.525735e+09</td>\n",
       "      <td>13.098427</td>\n",
       "    </tr>\n",
       "    <tr>\n",
       "      <th>3</th>\n",
       "      <td>992198572664860672</td>\n",
       "      <td>2018-05-04 00:25:48</td>\n",
       "      <td>This is Rosie. She thought Coachella was this ...</td>\n",
       "      <td>13.0</td>\n",
       "      <td>1.525394e+09</td>\n",
       "      <td>13.089189</td>\n",
       "    </tr>\n",
       "    <tr>\n",
       "      <th>4</th>\n",
       "      <td>991744041351090177</td>\n",
       "      <td>2018-05-02 18:19:39</td>\n",
       "      <td>This is Riley. He’ll be your chauffeur this ev...</td>\n",
       "      <td>13.0</td>\n",
       "      <td>1.525285e+09</td>\n",
       "      <td>13.086255</td>\n",
       "    </tr>\n",
       "    <tr>\n",
       "      <th>...</th>\n",
       "      <td>...</td>\n",
       "      <td>...</td>\n",
       "      <td>...</td>\n",
       "      <td>...</td>\n",
       "      <td>...</td>\n",
       "      <td>...</td>\n",
       "    </tr>\n",
       "    <tr>\n",
       "      <th>1572</th>\n",
       "      <td>1032725635888803841</td>\n",
       "      <td>2018-08-23 20:25:53</td>\n",
       "      <td>This is Noodles. He had brain surgery earlier ...</td>\n",
       "      <td>14.0</td>\n",
       "      <td>1.535056e+09</td>\n",
       "      <td>13.350817</td>\n",
       "    </tr>\n",
       "    <tr>\n",
       "      <th>1573</th>\n",
       "      <td>1032310288652152832</td>\n",
       "      <td>2018-08-22 16:55:26</td>\n",
       "      <td>This is Pingo and Nina. They are believed to b...</td>\n",
       "      <td>14.0</td>\n",
       "      <td>1.534957e+09</td>\n",
       "      <td>13.348136</td>\n",
       "    </tr>\n",
       "    <tr>\n",
       "      <th>1574</th>\n",
       "      <td>1031696422813544448</td>\n",
       "      <td>2018-08-21 00:16:09</td>\n",
       "      <td>This is Nikita. She got caught in some wild fl...</td>\n",
       "      <td>13.0</td>\n",
       "      <td>1.534811e+09</td>\n",
       "      <td>13.344173</td>\n",
       "    </tr>\n",
       "    <tr>\n",
       "      <th>1575</th>\n",
       "      <td>1029767403545288706</td>\n",
       "      <td>2018-08-15 16:30:55</td>\n",
       "      <td>This is Winston. He came home for the first ti...</td>\n",
       "      <td>14.0</td>\n",
       "      <td>1.534351e+09</td>\n",
       "      <td>13.331720</td>\n",
       "    </tr>\n",
       "    <tr>\n",
       "      <th>1576</th>\n",
       "      <td>1029550934408486912</td>\n",
       "      <td>2018-08-15 02:10:45</td>\n",
       "      <td>RT @dog_rates: Here's a doggo realizing you ca...</td>\n",
       "      <td>13.0</td>\n",
       "      <td>1.534299e+09</td>\n",
       "      <td>13.330322</td>\n",
       "    </tr>\n",
       "  </tbody>\n",
       "</table>\n",
       "<p>1577 rows × 6 columns</p>\n",
       "</div>"
      ],
      "text/plain": [
       "                       id          created_at  \\\n",
       "0      994363623421153280 2018-05-09 23:48:56   \n",
       "1      993889039714578432 2018-05-08 16:23:07   \n",
       "2      993629544463642624 2018-05-07 23:11:58   \n",
       "3      992198572664860672 2018-05-04 00:25:48   \n",
       "4      991744041351090177 2018-05-02 18:19:39   \n",
       "...                   ...                 ...   \n",
       "1572  1032725635888803841 2018-08-23 20:25:53   \n",
       "1573  1032310288652152832 2018-08-22 16:55:26   \n",
       "1574  1031696422813544448 2018-08-21 00:16:09   \n",
       "1575  1029767403545288706 2018-08-15 16:30:55   \n",
       "1576  1029550934408486912 2018-08-15 02:10:45   \n",
       "\n",
       "                                                   text  rating     timestamp  \\\n",
       "0     This is Louie. He has misplaced his Cheerio. W...    14.0  1.525910e+09   \n",
       "1     This is Manny. He hasn’t seen your croissant. ...    13.0  1.525797e+09   \n",
       "2     This is Libby. She leap. 14/10\\n(IG: libbythef...    14.0  1.525735e+09   \n",
       "3     This is Rosie. She thought Coachella was this ...    13.0  1.525394e+09   \n",
       "4     This is Riley. He’ll be your chauffeur this ev...    13.0  1.525285e+09   \n",
       "...                                                 ...     ...           ...   \n",
       "1572  This is Noodles. He had brain surgery earlier ...    14.0  1.535056e+09   \n",
       "1573  This is Pingo and Nina. They are believed to b...    14.0  1.534957e+09   \n",
       "1574  This is Nikita. She got caught in some wild fl...    13.0  1.534811e+09   \n",
       "1575  This is Winston. He came home for the first ti...    14.0  1.534351e+09   \n",
       "1576  RT @dog_rates: Here's a doggo realizing you ca...    13.0  1.534299e+09   \n",
       "\n",
       "      prediction  \n",
       "0      13.103166  \n",
       "1      13.100102  \n",
       "2      13.098427  \n",
       "3      13.089189  \n",
       "4      13.086255  \n",
       "...          ...  \n",
       "1572   13.350817  \n",
       "1573   13.348136  \n",
       "1574   13.344173  \n",
       "1575   13.331720  \n",
       "1576   13.330322  \n",
       "\n",
       "[1577 rows x 6 columns]"
      ]
     },
     "execution_count": 28,
     "metadata": {},
     "output_type": "execute_result"
    }
   ],
   "source": [
    "rates2['timestamp'] = rates2['created_at'].apply(to_timestamp)\n",
    "fit = stats.linregress(rates2['timestamp'], rates2['rating'])\n",
    "rates2['prediction'] = rates2['timestamp']*fit.slope+fit.intercept\n",
    "rates2"
   ]
  },
  {
   "cell_type": "code",
   "execution_count": 29,
   "id": "28233c19",
   "metadata": {},
   "outputs": [
    {
     "data": {
      "text/plain": [
       "(2.7076907233592084e-08, -28.213750702371698)"
      ]
     },
     "execution_count": 29,
     "metadata": {},
     "output_type": "execute_result"
    }
   ],
   "source": [
    "fit.slope, fit.intercept"
   ]
  },
  {
   "cell_type": "code",
   "execution_count": 30,
   "id": "eab854e6",
   "metadata": {},
   "outputs": [
    {
     "data": {
      "image/png": "[encoded data removed]",
      "text/plain": [
       "<Figure size 432x288 with 1 Axes>"
      ]
     },
     "metadata": {
      "needs_background": "light"
     },
     "output_type": "display_data"
    }
   ],
   "source": [
    "plt.xticks(rotation=25)\n",
    "plt.plot(rates2['created_at'], rates2['rating'], 'b.', alpha=0.5)\n",
    "plt.plot(rates2['created_at'], rates2['prediction'], 'r-', linewidth=3)\n",
    "plt.show()"
   ]
  },
  {
   "cell_type": "code",
   "execution_count": null,
   "id": "b8762353",
   "metadata": {},
   "outputs": [],
   "source": []
  }
 ],
 "metadata": {
  "kernelspec": {
   "display_name": "Python 3 (ipykernel)",
   "language": "python",
   "name": "python3"
  },
  "language_info": {
   "codemirror_mode": {
    "name": "ipython",
    "version": 3
   },
   "file_extension": ".py",
   "mimetype": "text/x-python",
   "name": "python",
   "nbconvert_exporter": "python",
   "pygments_lexer": "ipython3",
   "version": "3.9.12"
  }
 },
 "nbformat": 4,
 "nbformat_minor": 5
}
